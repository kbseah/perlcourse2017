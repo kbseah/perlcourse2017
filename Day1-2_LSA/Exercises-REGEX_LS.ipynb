{
 "cells": [
  {
   "cell_type": "markdown",
   "metadata": {
    "nbpresent": {
     "id": "a5ee995d-ac28-4129-aed4-f8d657984fb8"
    },
    "slideshow": {
     "slide_type": "skip"
    }
   },
   "source": [
    "<h1 id=\"tocheading\">Table of Contents</h1>\n",
    "<div id=\"toc\"></div>"
   ]
  },
  {
   "cell_type": "markdown",
   "metadata": {
    "nbpresent": {
     "id": "a81b23da-c15f-498a-83f3-15d4be4498d9"
    },
    "slideshow": {
     "slide_type": "slide"
    }
   },
   "source": [
    "# Exercises with regular expressions\n",
    "\n",
    "\n",
    "## 8-10 Feb. 2017"
   ]
  },
  {
   "cell_type": "markdown",
   "metadata": {
    "nbpresent": {
     "id": "d4c166d8-13a0-4cb3-8a1f-4db14c8ca130"
    },
    "slideshow": {
     "slide_type": "slide"
    }
   },
   "source": [
    "- Checking your regular expressions in real time is really convenient. You can do so with https://regex101.com/ or a widget tool in mac computers."
   ]
  },
  {
   "cell_type": "markdown",
   "metadata": {
    "nbpresent": {
     "id": "a7d501dd-a493-430b-b4cf-924323f8731f"
    },
    "slideshow": {
     "slide_type": "slide"
    }
   },
   "source": [
    "## Imagine you just got your (simple) gbk annotation file from RAST\n",
    "\n",
    "````perl\n",
    "\n",
    "....\n",
    "\n",
    "FEATURES             Location/Qualifiers\n",
    "     source          1..498\n",
    "                     /mol_type=\"genomic DNA\"\n",
    "                     /genome_id=\"6666666.225369\"\n",
    "                     /organism=\"SOX smybiont\"\n",
    "     CDS             complement(104..454)\n",
    "                     /db_xref=\"SEED:fig|6666666.225369.peg.189\"\n",
    "                     /translation=\"MRTAAWANGGANDICPSGFSVPTEAEITADTVHDGTYTGSNDIT\n",
    "                     NSATAFSSFLKIPVAGFRNRTNGALGSVGSGASLWSRSAGGANGRVLSVGSGYVVFGS\n",
    "                     VDRTGGFSVRCIKD\"\n",
    "                     /product=\"hypothetical protein\"\n",
    "                     /transl_table=11\n",
    "BASE COUNT      137 a    126 c    120 g    115 t\n",
    "ORIGIN      \n",
    "        1 gtggtgcgtt tatgatgtga atttaagata accatttcag gctaaagcca tgaaatggta\n",
    "       61 aagtgacgaa agtgtacaaa tgaatcaaag tgtcacgctg cgcttaatcc ttaatgcaac\n",
    "      121 gaacactaaa gccgccggtg cgatcaacgc tgccgaagac cacatagcca ctaccgacgc\n",
    "      181 tcaaaacgcg accattcgcg ccaccagcag accgactcca caagctggcg ccagagccaa\n",
    "      241 cactgccaag tgcgccattc gtacgattgc ggaagccagc aactgggatt ttaaggaaac\n",
    "      301 tggagaaggc tgtggcgctg ttagtaatat cattgctgcc cgtgtaagta ccgtcatgaa\n",
    "      361 cagtgtcagc agtaatttca gcttccgttg gtacactaaa gcctgatggg caaatgtcat\n",
    "      421 tagcgccgcc attcgcccaa gcggctgtgc gcaatgcacc actatcgtct atattgttgc\n",
    "      481 cgtcttgagt gttatttt\n",
    "//\n",
    "\n",
    "````\n"
   ]
  },
  {
   "cell_type": "markdown",
   "metadata": {
    "nbpresent": {
     "id": "fd5985b8-39f2-4245-9624-33bce3ba08ce"
    },
    "slideshow": {
     "slide_type": "slide"
    }
   },
   "source": [
    "## Your tasks:\n",
    "\n",
    "- Change the tag db_xref to locus_tag\n",
    " \n",
    "- Make the ID of the protein shorter\n",
    " You have the format SEED:fig|6666666.225369.peg.189 and you would like to change it to the format SOX189\n",
    "\n"
   ]
  },
  {
   "cell_type": "markdown",
   "metadata": {
    "nbpresent": {
     "id": "d1c4091b-5a7b-494c-b8f5-89028a110713"
    },
    "slideshow": {
     "slide_type": "fragment"
    }
   },
   "source": [
    "- Fetch the protein sequence\n",
    " \n",
    "- Fetch the nucleotide sequence"
   ]
  },
  {
   "cell_type": "markdown",
   "metadata": {
    "nbpresent": {
     "id": "7874b218-246d-4a4b-8195-e27b48f881e3"
    },
    "slideshow": {
     "slide_type": "slide"
    }
   },
   "source": [
    "## How to open a file? (for now)\n",
    "\n",
    "- We will learn later the details of how to read a file. For now, we will use a rather simplistic syntax to pipe text files to our perl scripts:\n",
    "\n",
    "\n",
    "\n"
   ]
  },
  {
   "cell_type": "markdown",
   "metadata": {
    "nbpresent": {
     "id": "f5a7fdcd-0309-41ef-8bf7-5b5bbde52fe7"
    },
    "slideshow": {
     "slide_type": "fragment"
    }
   },
   "source": [
    "````perl\n",
    "while (<>){\n",
    "    # print \"$_\"; \n",
    "}\n",
    "````\n",
    "\n",
    "\n",
    "- To run the script you can redirect the contents of a file to execute them in perl like this: \n",
    "\n",
    "````bash\n",
    "cat file_name.txt | myperlscript.pl\n",
    "````"
   ]
  },
  {
   "cell_type": "markdown",
   "metadata": {
    "nbpresent": {
     "id": "4130fb0d-0128-4eb8-926f-49258f241d01"
    },
    "slideshow": {
     "slide_type": "slide"
    }
   },
   "source": [
    "## Let's create the regular expression to get db_xref"
   ]
  },
  {
   "cell_type": "code",
   "execution_count": 4,
   "metadata": {
    "collapsed": false,
    "nbpresent": {
     "id": "bfadf693-9c00-4f08-b22c-94d25a9bfe2e"
    },
    "slideshow": {
     "slide_type": "slide"
    }
   },
   "outputs": [],
   "source": [
    "%%perl\n",
    "use strict;\n",
    "\n",
    "my $line;\n",
    "my $locus_tag;\n",
    "\n",
    "while ($line = <>){   #While the file is being read. Perl reads the file line by line!                  \n",
    "    if ($line=~ /(.*)\\/db_xref\\=.*peg\\.(\\S+)\\\"/){ \n",
    "        $line = $1 . \"locus_tag=\\\"SOX\" . $2 ;\n",
    "        $locus_tag = \"SOX\" . $2;\n",
    "    }\n",
    "    print $line;\n",
    "}\n"
   ]
  },
  {
   "cell_type": "markdown",
   "metadata": {
    "nbpresent": {
     "id": "e1a4e759-ec2c-429b-96ec-b955fded8cb8"
    },
    "slideshow": {
     "slide_type": "slide"
    }
   },
   "source": [
    "## Now let's get the protein sequence\n",
    "\n",
    "Tips and tricks: \n",
    "- Tip 1: You can use a flag to signalize that the file section containing the protein sequence is over (or as a mather of fact, you can use flags for any changing condition)\n"
   ]
  },
  {
   "cell_type": "markdown",
   "metadata": {
    "slideshow": {
     "slide_type": "slide"
    }
   },
   "source": [
    "- It's not this kind of flag!\n",
    "\n",
    "![title](http://pngimg.com/upload/flags_PNG14700.png)"
   ]
  },
  {
   "cell_type": "markdown",
   "metadata": {
    "collapsed": false,
    "slideshow": {
     "slide_type": "slide"
    }
   },
   "source": [
    "- Flags for programming\n",
    "\n",
    "![title](../Day1-2_LSA/flags.png)"
   ]
  },
  {
   "cell_type": "markdown",
   "metadata": {
    "nbpresent": {
     "id": "f4d99bfd-5a20-409b-841b-cfa95b7ebdaa"
    },
    "slideshow": {
     "slide_type": "slide"
    }
   },
   "source": [
    "- Tip 2: Two string can be concatenated like this\n",
    "\n",
    "````bash\n",
    "\n",
    "my $this = 'This';\n",
    "my $that = 'That';\n",
    "$string = join(\"\", $this, $that);\n",
    "# $string now contains 'ThisThat'.\n",
    "\n",
    "````\n"
   ]
  },
  {
   "cell_type": "markdown",
   "metadata": {
    "nbpresent": {
     "id": "4f0ae103-1edb-4ea3-a4bc-0358377a2c0d"
    },
    "slideshow": {
     "slide_type": "slide"
    }
   },
   "source": [
    "                     /translation=\"MRTAAWANGGANDICPSGFSVPTEAEITADTVHDGTYTGSNDIT\n",
    "                     NSATAFSSFLKIPVAGFRNRTNGALGSVGSGASLWSRSAGGANGRVLSVGSGYVVFGS\n",
    "                     VDRTGGFSVRCIKD\"\n",
    "                     /product=\"hypothetical protein\"\n",
    "                     \n",
    "We need a flag to indicate that the section in the file with protein information is starting and ending!\n",
    "\n",
    "- What patterns can you use?\n"
   ]
  },
  {
   "cell_type": "code",
   "execution_count": null,
   "metadata": {
    "collapsed": true,
    "nbpresent": {
     "id": "d90fa55f-2eed-4744-9f61-2791f67ead02"
    },
    "slideshow": {
     "slide_type": "slide"
    }
   },
   "outputs": [],
   "source": [
    "%%perl\n",
    "my $line;\n",
    "my $flag=0;\n",
    "my $seq;\n",
    "\n",
    "while ($line = <>){   #While the file is being read. Perl reads the file line by line!                  \n",
    "    chomp $line;\n",
    "    if ($line=~/(.*\\/translation=\\\")(\\S+)\\\"*/){\n",
    "        $flag =1;\n",
    "        $seq=$2;  \n",
    "    }\n",
    "    if (($flag== 1) && ($line!~/.*\\//) ){\n",
    "         $line=~ s/ //g;\n",
    "         $seq = join (\"\", $seq, $line);\n",
    "    }\n",
    "    if ($line=~/\\/product/){\n",
    "        $flag =0;\n",
    "    }\n",
    "}\n",
    "\n",
    "print \"The protein sequence is $seq \\n\";"
   ]
  },
  {
   "cell_type": "markdown",
   "metadata": {
    "nbpresent": {
     "id": "066a8430-913e-4c29-9464-8249b7ad8aee"
    },
    "slideshow": {
     "slide_type": "slide"
    }
   },
   "source": [
    "## And finally, let's get the nucleotide sequence\n",
    "\n",
    "````bash\n",
    "\n",
    "ORIGIN      \n",
    "        1 gtggtgcgtt tatgatgtga atttaagata accatttcag gctaaagcca tgaaatggta\n",
    "       61 aagtgacgaa agtgtacaaa tgaatcaaag tgtcacgctg cgcttaatcc ttaatgcaac\n",
    "      121 gaacactaaa gccgccggtg cgatcaacgc tgccgaagac cacatagcca ctaccgacgc\n",
    "      181 tcaaaacgcg accattcgcg ccaccagcag accgactcca caagctggcg ccagagccaa\n",
    "      241 cactgccaag tgcgccattc gtacgattgc ggaagccagc aactgggatt ttaaggaaac\n",
    "      301 tggagaaggc tgtggcgctg ttagtaatat cattgctgcc cgtgtaagta ccgtcatgaa\n",
    "      361 cagtgtcagc agtaatttca gcttccgttg gtacactaaa gcctgatggg caaatgtcat\n",
    "      421 tagcgccgcc attcgcccaa gcggctgtgc gcaatgcacc actatcgtct atattgttgc\n",
    "      481 cgtcttgagt gttatttt      \n",
    "//\n",
    "````"
   ]
  },
  {
   "cell_type": "code",
   "execution_count": 1,
   "metadata": {
    "collapsed": false,
    "nbpresent": {
     "id": "b0569d0d-7fc6-400f-b977-ce34372a8168"
    },
    "slideshow": {
     "slide_type": "slide"
    }
   },
   "outputs": [
    {
     "name": "stdout",
     "output_type": "stream",
     "text": [
      "The nucleotide sequence is  \n"
     ]
    }
   ],
   "source": [
    "%%perl\n",
    "my $line;\n",
    "my $flag=0;\n",
    "my $seq;\n",
    "my @seq;\n",
    "my $nt_seq=\"\";\n",
    "my $locus_tag;\n",
    "\n",
    "while ($line = <>){   #While the file is being read. Perl reads the file line by line!                  \n",
    "    chomp $line;\n",
    "    if ($line=~ /\\d+\\s+(\\D+\\s*)/){   ##will fetch the nucleotide sequences of the gbk file\n",
    "        $nt_seq = join (\"\", $nt_seq, $1);\n",
    "    }\n",
    "}\n",
    "\n",
    "$nt_seq =~ s/ //g;\n",
    "\n",
    "\n",
    "print \"The nucleotide sequence is $nt_seq \\n\";"
   ]
  },
  {
   "cell_type": "code",
   "execution_count": null,
   "metadata": {
    "collapsed": true,
    "slideshow": {
     "slide_type": "skip"
    }
   },
   "outputs": [],
   "source": [
    "%%perl\n",
    "###Complete code\n",
    "my $line;\n",
    "my $flag=0;\n",
    "my $seq;\n",
    "my @seq;\n",
    "my $nt_seq=\"\";\n",
    "my $locus_tag;\n",
    "\n",
    "while ($line = <>){   #While the file is being read. Perl reads the file line by line!                  \n",
    "    chomp $line;\n",
    "    if ($line=~ /(.*)\\/db_xref\\=.*peg\\.(\\S+)\\\"/){ \n",
    "        $line = $1 . \"locus_tag=\\\"SOX\" . $2 ;\n",
    "        $locus_tag = \"SOX\" . $2;\n",
    "    }\n",
    "    if ($line=~/(.*\\/translation=\\\")(\\S+)\\\"*/){\n",
    "        $seq= \"\";\n",
    "        $flag =1;   #this flag is used to indicate that there is a protein sequence in the file\n",
    "        $seq=$2;\n",
    "        #print $line;   \n",
    "    }\n",
    "    if (($flag== 1) && ($line!~/.*\\//) ){   #if there is protein sequence on the current line, and there is no other tag of the gbk file\n",
    "        $line=~ s/ //g;\n",
    "        $seq = join (\"\", $seq, $line);\n",
    "    }\n",
    "    if ($line=~/\\/product/){  #if the next tag is present the protien sequence is over\n",
    "        $flag =0;\n",
    "    }\n",
    "    if ($line=~ /\\d+\\s+(\\D+\\s*)/){\n",
    "        $nt_seq = join (\"\", $nt_seq, $1);\n",
    "    }\n",
    "}\n",
    "\n",
    "$seq =~ s/\\\"//;\n",
    "$nt_seq =~ s/ //g;\n",
    "\n",
    "print \"The protein sequence of $locus_tag is $seq \\n\";\n",
    "print \"The nucleotide sequence is $nt_seq \\n\";\n"
   ]
  },
  {
   "cell_type": "markdown",
   "metadata": {
    "nbpresent": {
     "id": "cffd717c-4521-418e-bc08-8e98ea3f0d44"
    },
    "slideshow": {
     "slide_type": "slide"
    }
   },
   "source": [
    "- The code above is written assuming that there is only one scaffold\n",
    "\n",
    "\n",
    "- What would you modify if you have multiple scaffolds?"
   ]
  },
  {
   "cell_type": "code",
   "execution_count": 7,
   "metadata": {
    "collapsed": false,
    "nbpresent": {
     "id": "3b9337a0-17ba-4c9e-ab63-c43010e24d0c"
    },
    "slideshow": {
     "slide_type": "skip"
    }
   },
   "outputs": [
    {
     "name": "stdout",
     "output_type": "stream",
     "text": [
      "The protein sequence of SOX189 is MRTAAWANGGANDICPSGFSVPTEAEITADTVHDGTYTGSNDITNSATAFSSFLKIPVAGFRNRTNGALGSVGSGASLWSRSAGGANGRVLSVGSGYVVFGSVDRTGGFSVRCIKD \n",
      "The nucleotide sequence is agtggtgcgtttatgatgtgaatttaagataaccatttcaggctaaagccatgaaatggtaaagtgacgaaagtgtacaaatgaatcaaagtgtcacgctgcgcttaatccttaatgcaacgaacactaaagccgccggtgcgatcaacgctgccgaagaccacatagccactaccgacgctcaaaacgcgaccattcgcgccaccagcagaccgactccacaagctggcgccagagccaacactgccaagtgcgccattcgtacgattgcggaagccagcaactgggattttaaggaaactggagaaggctgtggcgctgttagtaatatcattgctgcccgtgtaagtaccgtcatgaacagtgtcagcagtaatttcagcttccgttggtacactaaagcctgatgggcaaatgtcattagcgccgccattcgcccaagcggctgtgcgcaatgcaccactatcgtctatattgttgccgtcttgagtgttatttt \n",
      "\n",
      "The upper case is AGTGGTGCGTTTATGATGTGAATTTAAGATAACCATTTCAGGCTAAAGCCATGAAATGGTAAAGTGACGAAAGTGTACAAATGAATCAAAGTGTCACGCTGCGCTTAATCCTTAATGCAACGAACACTAAAGCCGCCGGTGCGATCAACGCTGCCGAAGACCACATAGCCACTACCGACGCTCAAAACGCGACCATTCGCGCCACCAGCAGACCGACTCCACAAGCTGGCGCCAGAGCCAACACTGCCAAGTGCGCCATTCGTACGATTGCGGAAGCCAGCAACTGGGATTTTAAGGAAACTGGAGAAGGCTGTGGCGCTGTTAGTAATATCATTGCTGCCCGTGTAAGTACCGTCATGAACAGTGTCAGCAGTAATTTCAGCTTCCGTTGGTACACTAAAGCCTGATGGGCAAATGTCATTAGCGCCGCCATTCGCCCAAGCGGCTGTGCGCAATGCACCACTATCGTCTATATTGTTGCCGTCTTGAGTGTTATTTT\n",
      "\n",
      "The reverse complement is AAAATAACACTCAAGACGGCAACAATATAGACGATAGTGGTGCATTGCGCACAGCCGCTTGGGCGAATGGCGGCGCTAATGACATTTGCCCATCAGGCTTTAGTGTACCAACGGAAGCTGAAATTACTGCTGACACTGTTCATGACGGTACTTACACGGGCAGCAATGATATTACTAACAGCGCCACAGCCTTCTCCAGTTTCCTTAAAATCCCAGTTGCTGGCTTCCGCAATCGTACGAATGGCGCACTTGGCAGTGTTGGCTCTGGCGCCAGCTTGTGGAGTCGGTCTGCTGGTGGCGCGAATGGTCGCGTTTTGAGCGTCGGTAGTGGCTATGTGGTCTTCGGCAGCGTTGATCGCACCGGCGGCTTTAGTGTTCGTTGCATTAAGGATTAAGCGCAGCGTGACACTTTGATTCATTTGTACACTTTCGTCACTTTACCATTTCATGGCTTTAGCCTGAAATGGTTATCTTAAATTCACATCATAAACGCACCACT"
     ]
    }
   ],
   "source": [
    "%%bash\n",
    "cat /home/lsayaved/ownCloud/perlcourse2017/Day1-2_LSA/Example_singleCDS.gbk | perl /home/lsayaved/ownCloud/perlcourse2017/Day1-2_LSA/REGEX.pl"
   ]
  },
  {
   "cell_type": "markdown",
   "metadata": {
    "nbpresent": {
     "id": "e6d0c6f1-48ce-47c7-adf5-442ea3ad6170"
    },
    "slideshow": {
     "slide_type": "slide"
    }
   },
   "source": [
    "## Homework: Work with you nucleotide sequence\n",
    "- Change lower case to upper case\n",
    "- Reverse complement the sequence\n",
    "\n",
    "Tips: \n",
    "- Use the function reverse\n",
    "- Use tr"
   ]
  }
 ],
 "metadata": {
  "anaconda-cloud": {},
  "celltoolbar": "Slideshow",
  "kernelspec": {
   "display_name": "Python [conda root]",
   "language": "python",
   "name": "conda-root-py"
  },
  "language_info": {
   "codemirror_mode": {
    "name": "ipython",
    "version": 3
   },
   "file_extension": ".py",
   "mimetype": "text/x-python",
   "name": "python",
   "nbconvert_exporter": "python",
   "pygments_lexer": "ipython3",
   "version": "3.5.2"
  },
  "nbpresent": {
   "slides": {},
   "themes": {
    "default": "a9515789-2559-4fcc-ba4f-e3728862c6f3",
    "theme": {
     "a9515789-2559-4fcc-ba4f-e3728862c6f3": {
      "backgrounds": {
       "backgroundColor": {
        "background-color": "backgroundColor",
        "id": "backgroundColor"
       }
      },
      "id": "a9515789-2559-4fcc-ba4f-e3728862c6f3",
      "palette": {
       "backgroundColor": {
        "id": "backgroundColor",
        "rgb": [
         256,
         256,
         256
        ]
       },
       "headingColor": {
        "id": "headingColor",
        "rgb": [
         0,
         0,
         0
        ]
       },
       "linkColor": {
        "id": "linkColor",
        "rgb": [
         0,
         0,
         139
        ]
       },
       "mainColor": {
        "id": "mainColor",
        "rgb": [
         0,
         0,
         0
        ]
       }
      },
      "rules": {
       "a": {
        "color": "linkColor"
       },
       "h1": {
        "color": "headingColor",
        "font-family": "News Cycle",
        "font-size": 7
       },
       "h2": {
        "color": "headingColor",
        "font-family": "News Cycle",
        "font-size": 5
       },
       "h3": {
        "color": "headingColor",
        "font-family": "News Cycle",
        "font-size": 3.75
       },
       "h4": {
        "color": "headingColor",
        "font-family": "News Cycle",
        "font-size": 3
       },
       "h5": {
        "color": "headingColor",
        "font-family": "News Cycle"
       },
       "h6": {
        "color": "headingColor",
        "font-family": "News Cycle"
       },
       "h7": {
        "color": "headingColor",
        "font-family": "News Cycle"
       },
       "li": {
        "color": "mainColor",
        "font-family": "Lato",
        "font-size": 5
       },
       "p": {
        "color": "mainColor",
        "font-family": "Lato",
        "font-size": 5
       }
      },
      "text-base": {
       "color": "mainColor",
       "font-family": "Lato",
       "font-size": 5
      }
     }
    }
   }
  }
 },
 "nbformat": 4,
 "nbformat_minor": 1
}
