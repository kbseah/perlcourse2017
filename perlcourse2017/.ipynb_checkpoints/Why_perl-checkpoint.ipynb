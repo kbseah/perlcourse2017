{
 "cells": [
  {
   "cell_type": "markdown",
   "metadata": {},
   "source": [
    "# Why Perl?\n",
    "\n",
    "This course is for biologists who want to pick up some basic scripting skills, and we've decided to use Perl to do it.\n",
    "\n",
    "Why Perl, and not some other programming language like Python or C? Python, for example, is increasingly popular for data science and introductory computer science courses. \n",
    "\n",
    "Well the main reason is that we are most familiar with Perl, and we can only teach what we know....\n",
    "\n",
    "The next reason is that for many simple scripting tasks - where all you need to do is to shuffle some text around, search through files, reformat some tables - Perl is *good enough* and relatively easy to learn.\n",
    "\n",
    "## What Perl is good for\n",
    "\n",
    " * Processing and manipulating text-based data\n",
    "  * Most bioinformatics data are fundamentally just text: Fasta, Fastq, SAM, GFF, Genbank etc. are all text files\n",
    "  * A lot of headaches in bioinformatics are caused by format conversion - i.e. processing text, which is what Perl is good for\n",
    " * Tying together a bunch of other programs / languages\n",
    "  * Perl is what you turn to if your bash scripts are getting out of hand\n",
    "  * From perl you can call external programs, redirect their output, and so on\n",
    " * Having more than one way to do the same thing \n",
    "  * This means that you can choose between more human-readable syntax when you are striving for clarity, and more arcane shorthand when you just need one line of code to fix something quickly.\n",
    " * Availability and ubiquity\n",
    "  * Virtually all modern Unix-type operating systems, including Mac OS X, are shipped with Perl, so you can rely on it to be there on most computers that you use (versions for Windows are also available)\n",
    "  * A lot of bioinformatics scripting has been done in Perl, so it's useful to be able to read other people's code\n",
    "  * Modules written by other people, such as the very useful Bioperl module, can be readily downloaded from the CPAN archive\n",
    "\n",
    "## What Perl is not good for\n",
    "\n",
    " * Processing data that is not text, e.g. images, audio\n",
    "  * There are libraries for this sort of thing, but you're better off looking elsewhere, \n",
    " * Having more than one way to do the same thing\n",
    "  * Blessing and a curse - Perl allows you to write very cryptic things that can be difficult for other people to understand. And among \"other people\" you should also count yourself a few weeks or months in the future.\n",
    " * Flavor of the moment\n",
    "  * Times change and trends move on - if more people write code in Python, and software that you need to use is written in Python, then you have to learn Python eventually.\n",
    " * Real-time interpreter\n",
    "  * Dude if you really want to learn Python just go take a Python course already"
   ]
  }
 ],
 "metadata": {
  "anaconda-cloud": {},
  "kernelspec": {
   "display_name": "Python 2",
   "language": "python",
   "name": "python2"
  },
  "language_info": {
   "codemirror_mode": {
    "name": "ipython",
    "version": 2
   },
   "file_extension": ".py",
   "mimetype": "text/x-python",
   "name": "python",
   "nbconvert_exporter": "python",
   "pygments_lexer": "ipython2",
   "version": "2.7.9"
  }
 },
 "nbformat": 4,
 "nbformat_minor": 1
}
