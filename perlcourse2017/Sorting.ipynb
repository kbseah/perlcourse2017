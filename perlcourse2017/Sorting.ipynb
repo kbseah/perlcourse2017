{
 "cells": [
  {
   "cell_type": "markdown",
   "metadata": {},
   "source": [
    "# Sorting arrays\n",
    "\n",
    "Arrays are just lists of things. When working with more than one thing, it's usually useful to be able to sort them.\n",
    "\n",
    "The `sort` operator in perl is able to sort both alphabetically and numerically."
   ]
  },
  {
   "cell_type": "markdown",
   "metadata": {},
   "source": [
    "## Sorting an array of numbers"
   ]
  },
  {
   "cell_type": "code",
   "execution_count": 4,
   "metadata": {
    "collapsed": false
   },
   "outputs": [
    {
     "name": "stdout",
     "output_type": "stream",
     "text": [
      "Unsorted list: \n",
      "12,4,66,7,23,5,19\n",
      "Sorted list: \n",
      "4,5,7,12,19,23,66\n"
     ]
    }
   ],
   "source": [
    "%%perl\n",
    "\n",
    "my @numbers = (12, 4, 66, 7, 23, 5, 19);\n",
    "\n",
    "print \"Unsorted list: \\n\";\n",
    "print join \",\", @numbers;\n",
    "print \"\\n\";\n",
    "\n",
    "print \"Sorted list: \\n\";\n",
    "my @sorted = sort {$a <=> $b} @numbers;\n",
    "print join \",\", @sorted;\n",
    "print \"\\n\";"
   ]
  },
  {
   "cell_type": "markdown",
   "metadata": {},
   "source": [
    "Some comments:\n",
    " * The product of `sort`-ing an array is another array\n",
    " * The syntax of `sort` is `sort SUBROUTINE ARRAY`; the subroutine is the bit in curly braces\n",
    " * The subroutine uses two special variables, `$a` and `$b` to do its dirty work... it can be confusing if you already have variables of the same name defined elsewhere, so try to avoid that\n",
    " * The subroutine explains *how* to sort: `<=>` means do a numerical comparison, `$a` coming before `$b` means sort in ascending order.\n",
    "\n",
    "Let's see if you can spot the difference between ascending and descending sort:"
   ]
  },
  {
   "cell_type": "code",
   "execution_count": 17,
   "metadata": {
    "collapsed": false
   },
   "outputs": [
    {
     "name": "stdout",
     "output_type": "stream",
     "text": [
      "Unsorted list: \n",
      "12,4,66,7,23,5,19\n",
      "\n",
      "Sorted ascending: \n",
      "4,5,7,12,19,23,66\n",
      "\n",
      "Sorted descending: \n",
      "66,23,19,12,7,5,4\n",
      "\n"
     ]
    }
   ],
   "source": [
    "%%perl\n",
    "\n",
    "my @numbers = (12, 4, 66, 7, 23, 5, 19);\n",
    "\n",
    "print \"Unsorted list: \\n\";\n",
    "print join \",\", @numbers;\n",
    "print \"\\n\\n\";\n",
    "\n",
    "print \"Sorted ascending: \\n\";\n",
    "my @sorted = sort {$a <=> $b} @numbers;\n",
    "print join \",\", @sorted;\n",
    "print \"\\n\\n\";\n",
    "\n",
    "print \"Sorted descending: \\n\";\n",
    "my @sorted = sort {$b <=> $a} @numbers;\n",
    "print join \",\", @sorted;\n",
    "print \"\\n\\n\";"
   ]
  },
  {
   "cell_type": "markdown",
   "metadata": {},
   "source": [
    "## Sorting an array of text\n",
    "\n",
    "Above we used `sort` with the comparison operator `<=>`, which does a numerical sort. But this doesn't work with text strings:"
   ]
  },
  {
   "cell_type": "code",
   "execution_count": 11,
   "metadata": {
    "collapsed": false
   },
   "outputs": [
    {
     "name": "stderr",
     "output_type": "stream",
     "text": [
      "Argument \"Carl\" isn't numeric in sort at - line 7.\n",
      "Argument \"Albert\" isn't numeric in sort at - line 7.\n",
      "Argument \"Ruprecht\" isn't numeric in sort at - line 7.\n",
      "Argument \"Maximilian\" isn't numeric in sort at - line 7.\n",
      "Argument \"Wilhelm\" isn't numeric in sort at - line 7.\n"
     ]
    }
   ],
   "source": [
    "%%perl\n",
    "\n",
    "use strict;\n",
    "use warnings; # So that we'll get to see the error messages\n",
    "\n",
    "my @names = (\"Carl\",\"Albert\",\"Ruprecht\",\"Maximilian\",\"Wilhelm\");\n",
    "\n",
    "my @sortednames = sort {$a <=> $b} @names;"
   ]
  },
  {
   "cell_type": "markdown",
   "metadata": {},
   "source": [
    "Instead you'll have to use the `cmp` operator, which explicitly tells perl that you're giving it a bunch of text strings, not a bunch of numbers: "
   ]
  },
  {
   "cell_type": "code",
   "execution_count": 19,
   "metadata": {
    "collapsed": false
   },
   "outputs": [
    {
     "name": "stdout",
     "output_type": "stream",
     "text": [
      "Sorted alphabectically ascending: \n",
      "Albert,Friedrich,Maximilian,Ruprecht,Wilhelm\n",
      "\n",
      "Sorted alphabectically descending: \n",
      "Wilhelm,Ruprecht,Maximilian,Friedrich,Albert\n"
     ]
    }
   ],
   "source": [
    "%%perl\n",
    "\n",
    "use strict;\n",
    "use warnings;\n",
    "\n",
    "my @names = (\"Friedrich\",\"Albert\",\"Maximilian\",\"Ruprecht\",\"Wilhelm\");\n",
    "\n",
    "print \"Sorted alphabectically ascending: \\n\";\n",
    "my @sortednames1 = sort {$a cmp $b} @names;\n",
    "print join \",\", @sortednames1;\n",
    "print \"\\n\\n\";\n",
    "\n",
    "print \"Sorted alphabectically descending: \\n\";\n",
    "my @sortednames2 = sort {$b cmp $a} @names;\n",
    "print join \",\", @sortednames2;\n",
    "print \"\\n\";"
   ]
  },
  {
   "cell_type": "markdown",
   "metadata": {},
   "source": [
    "Why do we need to have `cmp` and `<=>`? Surely perl can tell the difference between a number and text? Yes, but sometiems you also want to sort text alphabetically, e.g. telephone numbers. \n",
    "\n",
    "Here's an example of sorting numbers alphabetically:"
   ]
  },
  {
   "cell_type": "code",
   "execution_count": 18,
   "metadata": {
    "collapsed": false
   },
   "outputs": [
    {
     "name": "stdout",
     "output_type": "stream",
     "text": [
      "Sorted alphabetically ascending: \n",
      "12,19,23,4,5,66,7\n",
      "Sorted alphabetically ascending: \n",
      "7,66,5,4,23,19,12\n"
     ]
    }
   ],
   "source": [
    "%%perl \n",
    "\n",
    "my @numbers = (12, 4, 66, 7, 23, 5, 19);\n",
    "\n",
    "print \"Sorted alphabetically ascending: \\n\";\n",
    "my @sorted = sort {$a cmp $b} @numbers;\n",
    "print join \",\", @sorted;\n",
    "print \"\\n\";\n",
    "\n",
    "print \"Sorted alphabetically ascending: \\n\";\n",
    "my @sorted = sort {$b cmp $a} @numbers;\n",
    "print join \",\", @sorted;\n",
    "print \"\\n\";"
   ]
  },
  {
   "cell_type": "markdown",
   "metadata": {},
   "source": [
    "Unfortunately perl doesn't understand Roman numerals:"
   ]
  },
  {
   "cell_type": "code",
   "execution_count": 22,
   "metadata": {
    "collapsed": false
   },
   "outputs": [
    {
     "name": "stdout",
     "output_type": "stream",
     "text": [
      "Carl VI,Albert II,Ruprecht,Maximilian,Wilhelm II"
     ]
    },
    {
     "name": "stderr",
     "output_type": "stream",
     "text": [
      "Argument \"Carl VI\" isn't numeric in sort at - line 5.\n",
      "Argument \"Albert II\" isn't numeric in sort at - line 5.\n",
      "Argument \"Ruprecht\" isn't numeric in sort at - line 5.\n",
      "Argument \"Maximilian\" isn't numeric in sort at - line 5.\n",
      "Argument \"Wilhelm II\" isn't numeric in sort at - line 5.\n"
     ]
    }
   ],
   "source": [
    "%%perl\n",
    "\n",
    "use warnings; \n",
    "\n",
    "my @names = (\"Carl VI\",\"Albert II\",\"Ruprecht\",\"Maximilian\",\"Wilhelm II\");\n",
    "print join \",\", sort {$a <=> $b} @names;"
   ]
  },
  {
   "cell_type": "markdown",
   "metadata": {},
   "source": [
    "## Sorting the keys or values of a hash\n",
    "\n",
    "Recall that a hash is a collection of keys and values, more accurately a collection of *pairs* of keys and values. \n",
    "\n",
    "As an example, this might be a set of names (as keys) and dates (as values). \n",
    "\n",
    "You might for example want to sort the names alphabetically and report the corresponding dates, or to arrange the names in order of the dates that are associated with them.\n",
    "\n",
    "Strictly speaking you are not sorting a hash, because sorting only works on arrays. Furthermore, a hash is specifically designed so that you can look up particular values by supplying their keys. Perl represents hashes internally in some magical way so that this lookup process is efficient, regardless of what order you input the data.\n",
    "\n",
    "Therefore, what we are actually doing is \"sorting the values of a hash by their keys\", or \"sorting the keys of a hash by their values\". \n",
    "\n",
    "Here's an example to make things more concrete."
   ]
  },
  {
   "cell_type": "markdown",
   "metadata": {},
   "source": [
    "### Sorting by keys"
   ]
  },
  {
   "cell_type": "code",
   "execution_count": 38,
   "metadata": {
    "collapsed": false
   },
   "outputs": [
    {
     "name": "stdout",
     "output_type": "stream",
     "text": [
      "Sorted as perl sees fit (i.e. not for human consumption): \n",
      "George V's reign started in 1910\n",
      "Edward VII's reign started in 1901\n",
      "George VI's reign started in 1936\n",
      "Elizabeth II's reign started in 1952\n",
      "Edward VIII's reign started in 1936\n",
      "\n",
      "Sorted by keys alphabetically:\n",
      "Edward VII's reign started in 1901\n",
      "Edward VIII's reign started in 1936\n",
      "Elizabeth II's reign started in 1952\n",
      "George V's reign started in 1910\n",
      "George VI's reign started in 1936\n"
     ]
    }
   ],
   "source": [
    "%%perl\n",
    "\n",
    "my %namesdates = (\n",
    "    \"Edward VII\" => \"1901\",\n",
    "    \"George V\" => \"1910\",\n",
    "    \"Edward VIII\" => \"1936\",\n",
    "    \"George VI\" => \"1936\",\n",
    "    \"Elizabeth II\" => \"1952\",\n",
    ");\n",
    "\n",
    "print \"Sorted as perl sees fit (i.e. not for human consumption): \\n\"; \n",
    "foreach my $name (keys %namesdates) { # Actual output will be different between runs of the same code\n",
    "    print \"$name\\'s reign started in $namesdates{$name}\\n\";\n",
    "}\n",
    "\n",
    "print \"\\n\";\n",
    "\n",
    "print \"Sorted by keys alphabetically:\\n\";\n",
    "foreach my $name (sort {$a cmp $b} keys %namesdates) {\n",
    "    print \"$name\\'s reign started in $namesdates{$name}\\n\";\n",
    "}\n"
   ]
  },
  {
   "cell_type": "markdown",
   "metadata": {},
   "source": [
    "We've already learned about hashes and how to access hashes through `foreach` loops. \n",
    "\n",
    "For the unsorted case, we have the following line at the beginning of the loop: \n",
    "```\n",
    "foreach my $name (keys %namesdates) {\n",
    "```\n",
    "\n",
    "Translated into English: `foreach` of the keys of the hash `%namesdates`, to which we'll give the temporary name `$name` ... \n",
    "\n",
    "Note that the list of keys of %namesdates is enclosed in parantheses, i.e. the list of keys is an array.\n",
    "\n",
    "We'll need to make sure that the sorted list of keys is also an array. We have the following line:\n",
    "\n",
    "```\n",
    "foreach my $name (sort {$a cmp $b} keys %namesdates) {\n",
    "```\n",
    "\n",
    " * The `sort` statement goes inside the parentheses before the `keys` operator\n",
    " * The special variables `$a` and `$b` make an appearance again inside the sort subroutine\n",
    " * We are performing an alphabetical sort"
   ]
  },
  {
   "cell_type": "markdown",
   "metadata": {},
   "source": [
    "### Sorting by values\n",
    "\n",
    "Sorting by values is a bit more complicated. You might think that the following code might work:"
   ]
  },
  {
   "cell_type": "code",
   "execution_count": 40,
   "metadata": {
    "collapsed": false
   },
   "outputs": [
    {
     "name": "stdout",
     "output_type": "stream",
     "text": [
      "Sorted by values... (not a good example)\n",
      "1901's reign started in \n",
      "1910's reign started in \n",
      "1936's reign started in \n",
      "1936's reign started in \n",
      "1952's reign started in \n"
     ]
    }
   ],
   "source": [
    "%%perl \n",
    "\n",
    "my %namesdates = (\n",
    "    \"Edward VII\" => \"1901\",\n",
    "    \"George V\" => \"1910\",\n",
    "    \"Edward VIII\" => \"1936\",\n",
    "    \"George VI\" => \"1936\",\n",
    "    \"Elizabeth II\" => \"1952\",\n",
    ");\n",
    "\n",
    "print \"Sorted by values... (not a good example)\\n\";\n",
    "foreach my $name (sort {$a cmp $b} values %namesdates) {\n",
    "    print \"$name\\'s reign started in $namesdates{$name}\\n\";\n",
    "}\n",
    "\n"
   ]
  },
  {
   "cell_type": "markdown",
   "metadata": {},
   "source": [
    "As you guessed, `values` does in fact return the list of values of a hash! Hooray! However we have some problems:\n",
    "\n",
    " * We forgot that our original code actually was written for the keys (names) \n",
    " * However it's not so easy to retrieve a key from a value\n",
    " * This is by design. Hashes are *supposed* to be used to get values given a unique key. The main reason why the reverse is not recommended is that often we have multiple keys that all have the same value. Keys have to be unique, but values don't. How do we decide which one is which, in that case? \n",
    " * An example of duplicated values is 1936, the year where both Edward VIII and George VI began their reigns\n",
    "\n",
    "The solution is to do some more voodoo with the `sort` command, not with exchanging `key` for `value`:"
   ]
  },
  {
   "cell_type": "code",
   "execution_count": 35,
   "metadata": {
    "collapsed": false
   },
   "outputs": [
    {
     "name": "stdout",
     "output_type": "stream",
     "text": [
      "Sorted by values in descending order:\n",
      "Elizabeth II's reign started in 1952\n",
      "Edward VIII's reign started in 1936\n",
      "George VI's reign started in 1936\n",
      "George V's reign started in 1910\n",
      "Edward VII's reign started in 1901\n"
     ]
    }
   ],
   "source": [
    "%%perl\n",
    "\n",
    "my %namesdates = (\n",
    "    \"Edward VII\" => \"1901\",\n",
    "    \"George V\" => \"1910\",\n",
    "    \"Edward VIII\" => \"1936\",\n",
    "    \"George VI\" => \"1936\",\n",
    "    \"Elizabeth II\" => \"1952\",\n",
    ");\n",
    "\n",
    "print \"Sorted by values in descending order:\\n\";\n",
    "foreach my $name (sort {$namesdates{$b} <=> $namesdates{$a}} keys %namesdates) {\n",
    "    print \"$name\\'s reign started in $namesdates{$name}\\n\";\n",
    "}"
   ]
  },
  {
   "cell_type": "markdown",
   "metadata": {},
   "source": [
    "How does this work? \n",
    "\n",
    "The `sort` statement in the beginning of the loop is now much longer:\n",
    "\n",
    "```\n",
    "foreach my $name (sort {$namesdates{$b} <=> $namesdates{$a}} keys %namesdates) {\n",
    "```\n",
    "\n",
    "Here's one way to understand what's going on. `$a` and `$b` are special dummy variables which represent the `keys` of `%namesdates` within the context of the `sort` subroutine. If you want to sort by keys, then simply leave them be. But if you want to sort by values, then you have to access the values *through the keys* using the hash. The syntax for this, as you know, is `$namesdates{$the_key}`, but here we have `$a` and `$b` standing in for the keys.\n",
    "\n",
    "If you think too hard about it, the metaphor doesn't really make sense. Since we're sorting by values, not keys, why is the sort direction determined by the `$a` and `$b` that represent keys and not values? \n",
    "\n",
    "Advice: don't think too hard about it."
   ]
  }
 ],
 "metadata": {
  "kernelspec": {
   "display_name": "Python 2",
   "language": "python",
   "name": "python2"
  },
  "language_info": {
   "codemirror_mode": {
    "name": "ipython",
    "version": 2
   },
   "file_extension": ".py",
   "mimetype": "text/x-python",
   "name": "python",
   "nbconvert_exporter": "python",
   "pygments_lexer": "ipython2",
   "version": "2.7.9"
  }
 },
 "nbformat": 4,
 "nbformat_minor": 1
}
