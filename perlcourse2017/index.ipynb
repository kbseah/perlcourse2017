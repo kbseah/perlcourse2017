{
 "cells": [
  {
   "cell_type": "markdown",
   "metadata": {},
   "source": [
    "# Perl Course 2017\n",
    "\n",
    "## Contents\n",
    "\n",
    " * [Why Perl?](Why_perl.ipynb)\n",
    " * [Sorting arrays](Sorting.ipynb)\n",
    " * [Iteration (loops)](Loops.ipynb)\n",
    " * [Reading and writing files](Reading_writing_files.ipynb)\n",
    " * [Advanced topics](Advanced_topics.ipynb)"
   ]
  }
 ],
 "metadata": {
  "kernelspec": {
   "display_name": "Python 2",
   "language": "python",
   "name": "python2"
  },
  "language_info": {
   "codemirror_mode": {
    "name": "ipython",
    "version": 2
   },
   "file_extension": ".py",
   "mimetype": "text/x-python",
   "name": "python",
   "nbconvert_exporter": "python",
   "pygments_lexer": "ipython2",
   "version": "2.7.9"
  }
 },
 "nbformat": 4,
 "nbformat_minor": 2
}
