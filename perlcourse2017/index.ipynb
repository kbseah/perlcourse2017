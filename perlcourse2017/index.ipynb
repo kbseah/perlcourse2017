{
 "cells": [
  {
   "cell_type": "markdown",
   "metadata": {},
   "source": [
    "# Perl Course 2017\n",
    "\n",
    "## Contents\n",
    "\n",
    " * [Why Perl?](Why_perl.ipynb)\n",
    " * [Variables in Perl](Variables in perl.ipynb)\n",
    " * [Sorting arrays](Sorting.ipynb)\n",
    " * [Iteration (loops)](Loops.ipynb)\n",
    " * [Reading and writing files](Reading_writing_files.ipynb)\n",
    " * [Advanced topics](Advanced_topics.ipynb)"
   ]
  }
 ],
 "metadata": {
  "anaconda-cloud": {},
  "kernelspec": {
   "display_name": "Python [default]",
   "language": "python",
   "name": "python3"
  },
  "language_info": {
   "codemirror_mode": {
    "name": "ipython",
    "version": 3
   },
   "file_extension": ".py",
   "mimetype": "text/x-python",
   "name": "python",
   "nbconvert_exporter": "python",
   "pygments_lexer": "ipython3",
   "version": "3.5.2"
  }
 },
 "nbformat": 4,
 "nbformat_minor": 2
}
