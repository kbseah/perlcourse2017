{
 "cells": [
  {
   "cell_type": "markdown",
   "metadata": {
    "nbpresent": {
     "id": "bcdcd572-fe88-4083-9287-35629d496598"
    }
   },
   "source": [
    "# Advanced topics\n",
    "\n",
    " * Subroutines/functions\n",
    " * Calling external programs from Perl\n",
    " * Command line arguments \n",
    " * BioPerl"
   ]
  },
  {
   "cell_type": "markdown",
   "metadata": {
    "nbpresent": {
     "id": "f818a7ec-00f2-4583-a015-2c42927fa02b"
    }
   },
   "source": [
    "## Subroutines\n",
    "\n",
    "**Subroutines**, also known as **functions**, will become useful once you start writing code that starts to get longer and more complex. \n",
    "\n",
    "Here's a simple example of a program that could be simplified with a subroutine:"
   ]
  },
  {
   "cell_type": "code",
   "execution_count": 9,
   "metadata": {
    "collapsed": false,
    "nbpresent": {
     "id": "f8beeecf-ffab-4026-98c0-d98c2deb527a"
    }
   },
   "outputs": [
    {
     "name": "stdout",
     "output_type": "stream",
     "text": [
      "The cube of 5 is: 125\n",
      "One less than this is: 124\n",
      "One more than this is: 126\n"
     ]
    }
   ],
   "source": [
    "%%perl\n",
    "\n",
    "my $number = 5;\n",
    "\n",
    "print \"The cube of $number is: \";\n",
    "print $number*$number*$number .\"\\n\";\n",
    "print \"One less than this is: \";\n",
    "print $number*$number*$number-1 .\"\\n\";\n",
    "print \"One more than this is: \";\n",
    "print $number*$number*$number+1 .\"\\n\";"
   ]
  },
  {
   "cell_type": "markdown",
   "metadata": {
    "nbpresent": {
     "id": "3bce0fd5-10db-4ded-913f-302ab8bd0e96"
    }
   },
   "source": [
    "It's tedious to type `$number*$number*$number` over and over again, so you could make this into a subroutine:"
   ]
  },
  {
   "cell_type": "code",
   "execution_count": 31,
   "metadata": {
    "collapsed": false,
    "nbpresent": {
     "id": "68bc90e6-80f9-4ac9-8daa-45339095262c"
    }
   },
   "outputs": [
    {
     "name": "stdout",
     "output_type": "stream",
     "text": [
      "The cube of 5 is: 125\n",
      "One less than this is: 124\n",
      "One more than this is: 126\n"
     ]
    }
   ],
   "source": [
    "%%perl\n",
    "\n",
    "my $number = 5;\n",
    "\n",
    "print \"The cube of $number is: \";\n",
    "print cube($number) .\"\\n\";\n",
    "print \"One less than this is: \";\n",
    "print cube($number)-1 .\"\\n\";\n",
    "print \"One more than this is: \";\n",
    "print cube($number)+1 .\"\\n\";\n",
    "\n",
    "# Subroutines can be placed any where in the script, even after they are called in the main script. \n",
    "# This makes it easier to keep your code tidy because you can corrall all the subs at the very end.\n",
    "sub cube {\n",
    "    my ($in) = @_;\n",
    "    my $output = $in*$in*$in;\n",
    "    return $output;\n",
    "}"
   ]
  },
  {
   "cell_type": "markdown",
   "metadata": {
    "nbpresent": {
     "id": "04aa7138-dbd6-403a-a00c-a9d5fb4b4142"
    }
   },
   "source": [
    "### Benefits of using subroutines\n",
    "\n",
    "Leaving aside the details of `sub` for now, let's take a big picture look at why using subroutines, or **modularizing** your code, is so useful:\n",
    "\n",
    " * Saves on unnecessary typing and repetition - fewer errors can creep in.\n",
    " * Updating code is easier - if you decide to square instead of cube, you only have to change it at one place vs. three\n",
    " * For more complex examples of code, you'll have to keep track of fewer variable names at a time, because variables within a subroutine are only defined within that subroutine (their **scope**) \n",
    " * Code is easier to understand; if you choose subroutine names carefully, you can have meaningful semantic abstraction - calling the subroutine `cube` is more meaningful than `slartibartfast` and helps you remember what it's for"
   ]
  },
  {
   "cell_type": "markdown",
   "metadata": {
    "nbpresent": {
     "id": "0833154f-88bf-4be8-ac2e-b4fe4ac31fb1"
    }
   },
   "source": [
    "### What is a subroutine\n",
    "\n",
    "A subroutine is like a mathematical function: it takes some **input**, does something to it, and returns an **output**, which is also called the **return value**. \n",
    "\n",
    "However, unlike a mathematical function, the relationship between input and output is not necessarily one-to-one: e.g. a random number generator. Furthermore, aside from the return value, a function can also have **side effects**, i.e. it can modify other variables or interact with the outside world, in addition to the primary return value. \n",
    "\n",
    "Functions that take an input and only give a return value are called **pure functions**. In theory, two pure functions that give the same output for the same input are equivalent and interchangeable, regardless of their internal mechanism for making that output. "
   ]
  },
  {
   "cell_type": "markdown",
   "metadata": {
    "nbpresent": {
     "id": "269bb099-2f45-4d63-95b1-a8d1194119ca"
    }
   },
   "source": [
    "### Syntax of `sub`\n",
    "\n",
    "Let's look at the example above line by line:\n",
    "\n",
    "```\n",
    "sub cube {\n",
    "```\n",
    "Use `sub` to declare a new subroutine called `cube`. The code for the subroutine is enclosed in curly braces `{` and `}`.\n",
    "\n",
    "```\n",
    "    my ($in) = @_;\n",
    "```\n",
    "The **input** to a subroutine is placed in a special variable called `@_`. Recall the `@ARGV` special variable that's used to take command line arguments. You can imagine that `@_` is behaving like a miniature `@ARGV`, but instead of acting for the entire script, it is only valid within that subroutine. If you have more than one subroutine, each one has its own `@_`. \n",
    "\n",
    "The above line assigns the contents of `@_` to a new array called `($in)`. Why the brackets around `$in`? Remember that `@_` is an array, so you should not have `my $in = @_;`. Alternatives: `my $in = $_[0];`, `my @in = @_;`.\n",
    "\n",
    "```\n",
    "    my $output = $in*$in*$in;\n",
    "```\n",
    "Perform the operation on the input, and assign the results to a new variable called `$output`. \n",
    "\n",
    "Notice the `my` command here. The variable `$output` is only defined within this subroutine. Outside of this subroutine, in the main code body, you can have another variable called `$output` which would not be affected. Likewise, if you try to call `$output` outside of this subroutine, it would return an error message. This is what is meant when we say that `$output` is **lexically scoped** to this subroutine.\n",
    "\n",
    "You might recall seeing something similar with variables that are used in loops or if-else conditions.\n",
    "\n",
    "```\n",
    "    return $output;\n",
    "}\n",
    "```\n",
    "Return the variable `$output` as the output (**return value**) of this subroutine.\n",
    "\n",
    "Don't forget the closing curly brace at the end!"
   ]
  },
  {
   "cell_type": "markdown",
   "metadata": {
    "nbpresent": {
     "id": "579ce20e-31ac-441e-82cd-ef7d52dd1406"
    }
   },
   "source": [
    "### Subroutines without input arguments\n",
    "\n",
    "Not all subroutines require an input (they don't *have* to have an output either, if their purpose is to produce a side effect):"
   ]
  },
  {
   "cell_type": "code",
   "execution_count": 3,
   "metadata": {
    "collapsed": false,
    "nbpresent": {
     "id": "ee06e019-5259-4920-9017-13d2648983db"
    }
   },
   "outputs": [
    {
     "name": "stdout",
     "output_type": "stream",
     "text": [
      "25\n",
      "5\n",
      "\n",
      "The return value of newline() is: 1\n"
     ]
    }
   ],
   "source": [
    "%%perl\n",
    "\n",
    "my $number = 5;\n",
    "\n",
    "print $number*$number;\n",
    "newline();\n",
    "print $number;\n",
    "newline();\n",
    "\n",
    "my $returnval = newline();\n",
    "print \"The return value of newline() is: $returnval\\n\";\n",
    "\n",
    "sub newline {\n",
    "    print \"\\n\";\n",
    "}"
   ]
  },
  {
   "cell_type": "markdown",
   "metadata": {
    "nbpresent": {
     "id": "496376a4-3ff1-43ff-92fa-e8844137dfca"
    }
   },
   "source": [
    "Within a subroutine, `print` and other actions on standard streams still work. If a subroutine doesn't take any inputs, you still need to put parantheses after the subroutine name when you call it, i.e. `newline()` works but `newline` doesn't. \n",
    "\n",
    "Notice also that although `newline()` has no `return` statement, it still returns a value (1) by default if it executes successfully.\n",
    "\n",
    "The main objective of the `newline()` function, from the programmer's point of view, is not the return value. Therefore, this is an example of a function whose primary purpose is its side effect. "
   ]
  },
  {
   "cell_type": "markdown",
   "metadata": {
    "nbpresent": {
     "id": "3c9287d3-43da-4617-ac07-005b2b1409f6"
    }
   },
   "source": [
    "### Subroutines with more than one input argument\n",
    "\n",
    "The input arguments will be treated as an array passed to the special variable `@_`. Here's an example of a script with two subroutines, each taking two arguments."
   ]
  },
  {
   "cell_type": "code",
   "execution_count": 36,
   "metadata": {
    "collapsed": false,
    "nbpresent": {
     "id": "d5d69903-58eb-4866-a84e-44ea1553a644"
    }
   },
   "outputs": [
    {
     "name": "stdout",
     "output_type": "stream",
     "text": [
      "Sum of 5 and 4: 9\n",
      "Sum of 1 and 5: 6\n",
      "Difference of 5 and 4: 1\n"
     ]
    },
    {
     "name": "stderr",
     "output_type": "stream",
     "text": [
      "Name \"main::in1\" used only once: possible typo at - line 32.\n",
      "Use of uninitialized value $in1 in print at - line 32.\n"
     ]
    }
   ],
   "source": [
    "%%perl\n",
    "\n",
    "use warnings; # Need this to return error messages\n",
    "\n",
    "my $number1 = 5;\n",
    "my $number2 = 4;\n",
    "\n",
    "print \"Sum of $number1 and $number2: \";\n",
    "print sum($number1,$number2);\n",
    "print \"\\n\";\n",
    "\n",
    "print \"Sum of 1 and $number1: \";\n",
    "print sum(1,$number1);\n",
    "print \"\\n\";\n",
    "\n",
    "print \"Difference of $number1 and $number2: \";\n",
    "print diff($number1,$number2);\n",
    "print \"\\n\";\n",
    "\n",
    "sub sum {\n",
    "    my ($in1,$in2) = @_; \n",
    "    return $in1 + $in2;\n",
    "}\n",
    "\n",
    "sub diff {\n",
    "    my ($in1,$in2) = @_; \n",
    "    # We re-use the variable names $in1 and $in2 but it doesn't matter\n",
    "    # because they remain inside the lexical scope of their respective\n",
    "    # subroutines\n",
    "    return $in1 - $in2;\n",
    "}\n",
    "\n",
    "print $in1; # Should throw an error message because it's being used \n",
    "            # outside of its lexical scope!"
   ]
  },
  {
   "cell_type": "markdown",
   "metadata": {
    "nbpresent": {
     "id": "847745e1-b86d-429d-8c5d-f13dc4dbccbf"
    }
   },
   "source": [
    "### Passing arrays and hashes to subroutines\n",
    "\n",
    "In the previous section we saw how a subroutine takes input: the input is always a list of scalar variables. \n",
    "\n",
    "This presents a problem when we're dealing with arrays or hashes. We could pass an array to a function, but the results may not be quite what you expect. For example, the following works to sum the values of a numerical array:"
   ]
  },
  {
   "cell_type": "code",
   "execution_count": 4,
   "metadata": {
    "collapsed": false
   },
   "outputs": [
    {
     "name": "stdout",
     "output_type": "stream",
     "text": [
      "15"
     ]
    }
   ],
   "source": [
    "%%perl\n",
    "\n",
    "my @arr = (1, 2, 3, 4, 5);\n",
    "\n",
    "print sumarray(@arr);\n",
    "\n",
    "sub sumarray {\n",
    "    my (@inputarr) = @_;\n",
    "    my $total = 0;\n",
    "    foreach my $value (@inputarr) {\n",
    "        $total += $value;\n",
    "    }\n",
    "    return $total;\n",
    "}"
   ]
  },
  {
   "cell_type": "markdown",
   "metadata": {},
   "source": [
    "However if you try to introduce additional arguments...."
   ]
  },
  {
   "cell_type": "code",
   "execution_count": 5,
   "metadata": {
    "collapsed": false
   },
   "outputs": [
    {
     "name": "stdout",
     "output_type": "stream",
     "text": [
      "6"
     ]
    }
   ],
   "source": [
    "%%perl\n",
    "\n",
    "my @arr = (1, 2, 3, 4, 5);\n",
    "\n",
    "print sumpowerarray(@arr,2);\n",
    "\n",
    "sub sumpowerarray {\n",
    "    my (@inputarr, $power) = @_;\n",
    "    my $total = 0;\n",
    "    foreach my $value (@inputarr) {\n",
    "        $total += $value**$power;\n",
    "    }\n",
    "    return $total;\n",
    "}\n"
   ]
  },
  {
   "cell_type": "markdown",
   "metadata": {},
   "source": [
    "What we need to do instead is to give a reference to the array or hash that we wish to have as input, and then dereference it inside the function:"
   ]
  },
  {
   "cell_type": "code",
   "execution_count": 6,
   "metadata": {
    "collapsed": false
   },
   "outputs": [
    {
     "name": "stdout",
     "output_type": "stream",
     "text": [
      "55"
     ]
    }
   ],
   "source": [
    "%%perl\n",
    "\n",
    "my @arr = (1, 2, 3, 4, 5);\n",
    "\n",
    "print sumpowerarray(\\@arr,2); # Backslash in \\@arr makes it a reference\n",
    "\n",
    "sub sumpowerarray {\n",
    "    my ($inputarr_ref, $power) = @_;\n",
    "    my @inputarr = @$inputarr_ref; # Deference the array\n",
    "    my $total = 0;\n",
    "    foreach my $value (@inputarr) {\n",
    "        $total += $value**$power;\n",
    "    }\n",
    "    return $total;\n",
    "}"
   ]
  },
  {
   "cell_type": "markdown",
   "metadata": {},
   "source": [
    "When an array (or hash) is passed to a subroutine as a reference, you have two choices after dereferencing it:\n",
    "\n",
    " * Make a copy of the array/hash, and return a new array/hash as output\n",
    " * Directly modify the array/hash - in this case there is no direct output returned\n",
    "\n",
    "A simple example is given below:"
   ]
  },
  {
   "cell_type": "code",
   "execution_count": 12,
   "metadata": {
    "collapsed": false
   },
   "outputs": [
    {
     "name": "stdout",
     "output_type": "stream",
     "text": [
      "The original array is:\n",
      "1,2,3,4,5\n",
      "The output of function doublearray_01():\n",
      "2,4,6,8,10\n",
      "The original array was unaffected by the function doublearray_01():\n",
      "1,2,3,4,5\n",
      "The function doublearray_02() has no return value:\n",
      "\n",
      "Instead function doublearray_02() directly modifies the original array:\n",
      "2,4,6,8,10\n"
     ]
    }
   ],
   "source": [
    "%%perl\n",
    "\n",
    "my @arr = (1,2,3,4,5);\n",
    "\n",
    "print \"The original array is:\\n\";\n",
    "print join \",\", @arr;\n",
    "print \"\\n\";\n",
    "\n",
    "print \"The output of function doublearray_01():\\n\";\n",
    "print join \",\", doublearray_01(\\@arr);\n",
    "print \"\\n\";\n",
    "\n",
    "print \"The original array was unaffected by the function doublearray_01():\\n\";\n",
    "print join \",\", @arr; # The original array is untouched\n",
    "print \"\\n\";\n",
    "\n",
    "print \"The function doublearray_02() has no return value:\\n\";\n",
    "print join \",\", doublearray_02(\\@arr); # should have no return value\n",
    "print \"\\n\";\n",
    "\n",
    "print \"Instead function doublearray_02() directly modifies the original array:\\n\";\n",
    "print join \",\", @arr; # The original array has been modified\n",
    "print \"\\n\";\n",
    "\n",
    "sub doublearray_01 { # Version 1\n",
    "    my ($inref) = @_;\n",
    "    my @inarr = @$inref; # Make a copy of the original array\n",
    "    for (my $i=0; $i < scalar (@inarr); $i++) {\n",
    "        $inarr[$i] *= 2;\n",
    "    }\n",
    "    return @inarr;\n",
    "}\n",
    "\n",
    "sub doublearray_02 {\n",
    "    my ($inref) = @_;\n",
    "    for (my $i=0; $i < scalar (@$inref); $i++) { \n",
    "        $inref->[$i] *= 2; # Modify the original array directly\n",
    "    }\n",
    "    #return @inarr;\n",
    "}"
   ]
  },
  {
   "cell_type": "markdown",
   "metadata": {
    "nbpresent": {
     "id": "ecd1c5ef-3046-4b05-a8b5-8b89a0c62e8f"
    }
   },
   "source": [
    "## Calling external programs from a Perl script\n",
    "\n",
    "Perl is a popular choice as a scripting language - like duct tape to bind together other programs that may be written in other languages. You probably have already been using bash scripts for this purpose. Now let's see how to do it in Perl!\n",
    "\n",
    "### Method 1 - Backticks\n",
    "\n",
    "If you want to capture the output of a program or script, enclose the code by the backtick character: `` ` ``\n",
    "\n",
    "This will capture the STDOUT of the program, which you can put in a variable.\n",
    "\n",
    "The following example captures the output of the `ls` command:"
   ]
  },
  {
   "cell_type": "code",
   "execution_count": 7,
   "metadata": {
    "collapsed": false,
    "nbpresent": {
     "id": "dc0dc898-d91a-47e3-9aec-1828a740d8cf"
    }
   },
   "outputs": [
    {
     "name": "stdout",
     "output_type": "stream",
     "text": [
      "Advanced_topics.ipynb\n",
      "Reading_writing_files.ipynb\n",
      "Sorting.ipynb\n",
      "Why_perl.ipynb\n",
      "demo_argv.pl\n",
      "planning.md\n"
     ]
    }
   ],
   "source": [
    "%%perl\n",
    "\n",
    "my $ls_output = `ls`;\n",
    "print $ls_output;"
   ]
  },
  {
   "cell_type": "markdown",
   "metadata": {
    "nbpresent": {
     "id": "4adfe692-a1eb-464c-b594-62b1eca4e568"
    }
   },
   "source": [
    "The output from `ls` is in several lines, but has been assigned to a string. We can separate the lines into the elements of an array by using the `split` function:"
   ]
  },
  {
   "cell_type": "code",
   "execution_count": 8,
   "metadata": {
    "collapsed": false,
    "nbpresent": {
     "id": "72c80f81-ebe7-4672-8e56-bf9d132a328b"
    }
   },
   "outputs": [
    {
     "name": "stdout",
     "output_type": "stream",
     "text": [
      "Advanced_topics.ipynb\tReading_writing_files.ipynb\tSorting.ipynb\tWhy_perl.ipynb\tdemo_argv.pl\tplanning.md"
     ]
    }
   ],
   "source": [
    "%%perl\n",
    "\n",
    "my $ls_output = `ls`;\n",
    "my @ls_split = split \"\\n\", $ls_output; # Split using the newline character \\n\n",
    "print join \"\\t\", @ls_split; # Print the results separated now by tab character "
   ]
  },
  {
   "cell_type": "markdown",
   "metadata": {
    "nbpresent": {
     "id": "1ea032a4-6054-4254-9661-9e216816c18a"
    }
   },
   "source": [
    "However, the STDERR is not captured but continues to be displayed."
   ]
  },
  {
   "cell_type": "code",
   "execution_count": 13,
   "metadata": {
    "collapsed": false,
    "nbpresent": {
     "id": "d75ace2e-bc2b-4849-a7db-7f197e961de7"
    }
   },
   "outputs": [
    {
     "name": "stderr",
     "output_type": "stream",
     "text": [
      "ls: banana: No such file or directory\n"
     ]
    }
   ],
   "source": [
    "%%perl\n",
    "\n",
    "my $ls_output = `ls banana`;"
   ]
  },
  {
   "cell_type": "code",
   "execution_count": 16,
   "metadata": {
    "collapsed": false,
    "nbpresent": {
     "id": "2faf1861-1fc6-4460-a505-a1f88ac63b2c"
    }
   },
   "outputs": [
    {
     "name": "stdout",
     "output_type": "stream",
     "text": [
      "ls: banana: No such file or directory\n"
     ]
    }
   ],
   "source": [
    "%%perl\n",
    "\n",
    "# To capture STDERR but discard STDOUT:\n",
    "\n",
    "my $ls_output = `ls banana 2>&1 1>/dev/null`;\n",
    "print $ls_output;"
   ]
  },
  {
   "cell_type": "markdown",
   "metadata": {
    "nbpresent": {
     "id": "0dd3a259-b9a6-4129-8e17-0fce252f1cdf"
    }
   },
   "source": [
    "### Method 2 - `system`\n",
    "\n",
    "If you want to check whether a program has executed successfully or not, use the `system` function. \n",
    "\n",
    "This returns the **exit status** of the program, which is zero when successful, and non-zero otherwise."
   ]
  },
  {
   "cell_type": "code",
   "execution_count": 20,
   "metadata": {
    "collapsed": false,
    "nbpresent": {
     "id": "958d0466-60d0-4f59-9c4f-ec22fa2759a7"
    }
   },
   "outputs": [
    {
     "name": "stdout",
     "output_type": "stream",
     "text": [
      "Advanced_topics.ipynb\n",
      "Reading_writing_files.ipynb\n",
      "Sorting.ipynb\n",
      "Why_perl.ipynb\n",
      "demo_argv.pl\n",
      "planning.md\n",
      "\n",
      "\n",
      "Status of the first command: 0\n",
      "Status of the second command: 256"
     ]
    },
    {
     "name": "stderr",
     "output_type": "stream",
     "text": [
      "ls: banana: No such file or directory\n"
     ]
    }
   ],
   "source": [
    "%%perl\n",
    "\n",
    "my $ls_status1 = system(\"ls\");\n",
    "\n",
    "my $ls_status2 = system(\"ls banana\");\n",
    "\n",
    "print \"\\n\\n\";\n",
    "print \"Status of the first command: $ls_status1\";\n",
    "print \"\\n\";\n",
    "print \"Status of the second command: $ls_status2\";"
   ]
  },
  {
   "cell_type": "markdown",
   "metadata": {
    "nbpresent": {
     "id": "9cadb232-d8e6-4ea6-9ada-81172bb81208"
    }
   },
   "source": [
    " * The output of the command continues to STDOUT and/or STDERR as before\n",
    " * If you care about the output you could include a redirection with `>` in the command\n",
    " * The Perl script will wait for the command to return an error status before continuing with the rest of the script"
   ]
  },
  {
   "cell_type": "markdown",
   "metadata": {
    "nbpresent": {
     "id": "503e0aaa-366a-4959-afa5-040e692a229b"
    }
   },
   "source": [
    "## Command line arguments\n",
    "\n",
    "How does a program know where to get its input from? Here's some options:\n",
    "\n",
    " * Input is hard-coded into the program\n",
    " * Read from a file \n",
    " * Input interactively by user from keyboard\n",
    " * Piped from STDIN from another program\n",
    " * Command-line arguments\n",
    "\n",
    "We've already covered examples of the first four in this course (for no. 2 to 4, see the section on *Reading and Writing Files*). \n",
    "\n",
    "### What are command line arguments?\n",
    "\n",
    "You've seen them before but perhaps didn't know that there was a special name for them, those things that you type after the name of a program at the command line. \n",
    "\n",
    "For example if you want to list files in a directory you use `ls`. If you also want to show hidden files, you use `ls -a`. The switch `-a` is an example of a **command line argument**. \n",
    "\n",
    "Another example: You want to see the manual page for the program `date`, so you type `man date`. The text string `date` is a command line argument for the program `man`.\n",
    "\n",
    "Another example: You want to display the contents of a file with `cat`, so you type `cat somefile`. The filename `somefile` is an argument for `cat`.\n",
    "\n",
    "A more complicated example: You want to compress a bunch of files into a tar-gzip archive. You type `tar -czf archive.tar.gz my_files*`. `-czf`, `archive.tar.gz` and `my_files*` are all command-line arguments, but the designer of the program has decided to use a special syntax, which mixes filename arguments (`archive.tar.gz`), wildcard arguments (`my_files*`), and option switches (`-czf`). \n",
    "\n",
    "### Command line arguments in Perl\n",
    "\n",
    "Perl scripts can accept command line arguments. Anything that you type after the name of the script will be put into a special array called `@ARGV`. \n",
    "\n",
    "Suppose you have the following script in a file called `demo_argv.pl`"
   ]
  },
  {
   "cell_type": "code",
   "execution_count": 30,
   "metadata": {
    "collapsed": false,
    "nbpresent": {
     "id": "dda8d51f-0990-41ca-a8e8-4ec555e28763"
    }
   },
   "outputs": [
    {
     "name": "stdout",
     "output_type": "stream",
     "text": [
      "Your first command line argument was: \n",
      "One more time now: \n"
     ]
    },
    {
     "name": "stderr",
     "output_type": "stream",
     "text": [
      "Use of uninitialized value in print at - line 10.\n",
      "Use of uninitialized value in print at - line 14.\n"
     ]
    }
   ],
   "source": [
    "%%perl\n",
    "\n",
    "# Code will not run in Jupyter notebook because requires external input\n",
    "\n",
    "use strict;\n",
    "use warnings;\n",
    "\n",
    "my @input_arguments = @ARGV; # Read command line arguments\n",
    "\n",
    "print \"Your first command line argument was: \";\n",
    "print $input_arguments[0]; # Print the first one\n",
    "print \"\\n\";\n",
    "\n",
    "print \"One more time now: \";\n",
    "print $ARGV[0]; # does the same thing\n",
    "print \"\\n\";"
   ]
  },
  {
   "cell_type": "markdown",
   "metadata": {
    "nbpresent": {
     "id": "dc67b1db-756c-40a1-9547-db9c3f612bf4"
    }
   },
   "source": [
    "If you run the following bash script, you'll see how this works"
   ]
  },
  {
   "cell_type": "code",
   "execution_count": 23,
   "metadata": {
    "collapsed": false,
    "nbpresent": {
     "id": "f721d0d9-559d-43bf-a051-a60f3fdfc9db"
    }
   },
   "outputs": [
    {
     "name": "stdout",
     "output_type": "stream",
     "text": [
      "Your first command line argument was: arg1\n",
      "One more time now: arg1\n"
     ]
    }
   ],
   "source": [
    "%%bash \n",
    "\n",
    "perl demo_argv.pl arg1 arg2 arg3"
   ]
  },
  {
   "cell_type": "markdown",
   "metadata": {
    "nbpresent": {
     "id": "279a0bb9-43ba-4fc0-ab03-10493ebb31aa"
    }
   },
   "source": [
    "### Checking for missing command line arguments\n",
    "\n",
    "Let's say you want to prompt the user and exit gracefully when required arguments are not supplied, e.g. if the user simply types `perl demo_argv.pl` without arguments. \n",
    "\n",
    "You can check if `@ARGV` is actually defined using an if-else condition. "
   ]
  },
  {
   "cell_type": "code",
   "execution_count": 24,
   "metadata": {
    "collapsed": false,
    "nbpresent": {
     "id": "a6a48703-f7ee-4e81-a2a8-aa24549b9baa"
    }
   },
   "outputs": [
    {
     "name": "stderr",
     "output_type": "stream",
     "text": [
      "At least one command line argument is required!\n"
     ]
    }
   ],
   "source": [
    "%%perl\n",
    "\n",
    "use strict;\n",
    "use warnings;\n",
    "\n",
    "if (@ARGV) { # If arguments are supplied\n",
    "    print \"Your first command line argument was: \";\n",
    "    print $ARGV[0]; # Print the first one\n",
    "    print \"\\n\";\n",
    "} else { # Otherwise, if no arguments are supplied\n",
    "    print STDERR \"At least one command line argument is required!\\n\";\n",
    "}"
   ]
  },
  {
   "cell_type": "code",
   "execution_count": 27,
   "metadata": {
    "collapsed": false,
    "nbpresent": {
     "id": "aa7b3d16-08fd-4f95-82d6-b9d24564195a"
    }
   },
   "outputs": [
    {
     "name": "stderr",
     "output_type": "stream",
     "text": [
      "At least one command line argument is required!\n"
     ]
    }
   ],
   "source": [
    "%%perl\n",
    "\n",
    "# Alternative formula that requires less indentation\n",
    "\n",
    "use strict;\n",
    "use warnings;\n",
    "\n",
    "if (!@ARGV) {\n",
    "    print STDERR \"At least one command line argument is required!\\n\";\n",
    "    exit;\n",
    "}\n",
    "\n",
    "print \"Your first command line argument was: \";\n",
    "print $ARGV[0]; # Print the first one\n",
    "print \"\\n\";"
   ]
  },
  {
   "cell_type": "markdown",
   "metadata": {
    "nbpresent": {
     "id": "eee0dd8f-a363-4b39-ac3b-44d8aa483a21"
    }
   },
   "source": [
    "### Things to note\n",
    "\n",
    " * Bear in mind that the special variable `@ARGV` is always an array, even if the user only supplies one argument! \n",
    " * Arguments in that array are separated by spaces by default. You can't use commas, or dashes, or other fancy stuff.\n",
    " * Arguments aren't necessarily just filenames. They are simply text strings that your script has to process later. It's up to you to tell the user what they should be!\n",
    " * If you want fancy stuff, with switches like Unix programs (e.g. the `tar` example shown above), you should use the modules [`Getopt::Std`](http://perldoc.perl.org/Getopt/Std.html) and/or [`Getopt::Long`](http://perldoc.perl.org/Getopt/Long.html) (I recommend the latter)."
   ]
  },
  {
   "cell_type": "markdown",
   "metadata": {
    "nbpresent": {
     "id": "196402f7-dfe4-4ae0-8fe5-6ff19144c746"
    }
   },
   "source": [
    "### Exercises\n",
    "\n",
    "Write scripts that...\n",
    "\n",
    " * Take two integers as command line arguments and reports their sum \n",
    " * Take two integers and also let the user specify a third argument that decides whether to add or multiply them\n",
    " * Bonus points: In the above scripts, give an error message if the inputs are not integers (hint: use regex), or if there are too few / too many command line arguments (hint: check length of `@ARGV`)"
   ]
  },
  {
   "cell_type": "markdown",
   "metadata": {
    "nbpresent": {
     "id": "82746116-fdcc-40ff-b6b3-017e305a3133"
    }
   },
   "source": [
    "## BioPerl\n",
    "\n",
    "If you're interested in using Perl to directly manipulate sequences and other bioinformatic data, e.g. converting between different formats, the [BioPerl](http://bioperl.org) module is probably the next step, once you're familiar with basic Perl.\n",
    "\n",
    "BioPerl is designed differently from basic Perl, because it uses an object-oriented approach. This is beyond the scope of this tutorial, but the best place to start is probably the [Beginner's How-to](http://bioperl.org/howtos/Beginners_HOWTO.html) on the BioPerl website.\n"
   ]
  }
 ],
 "metadata": {
  "anaconda-cloud": {},
  "kernelspec": {
   "display_name": "Python [default]",
   "language": "python",
   "name": "python2"
  },
  "language_info": {
   "codemirror_mode": {
    "name": "ipython",
    "version": 2
   },
   "file_extension": ".py",
   "mimetype": "text/x-python",
   "name": "python",
   "nbconvert_exporter": "python",
   "pygments_lexer": "ipython2",
   "version": "2.7.12"
  }
 },
 "nbformat": 4,
 "nbformat_minor": 1
}
