{
 "cells": [
  {
   "cell_type": "markdown",
   "metadata": {
    "slideshow": {
     "slide_type": "slide"
    }
   },
   "source": [
    "# Exercises with arrays and hashes - Gbk to protein multifasta\n",
    "\n",
    "Now is your turn to apply what you just learn!\n",
    "\n",
    "- We created previously a perl script to read a genbank file and extract the locus tag, the protein sequence, and the nucleotide sequence of the scaffold. Now it's time to make things more interesting!\n"
   ]
  },
  {
   "cell_type": "markdown",
   "metadata": {
    "slideshow": {
     "slide_type": "fragment"
    }
   },
   "source": [
    "- Let's fetch our genbank file and produce a fasta file with the protein sequences. The identifiers of the sequences should have the protein annotation\n"
   ]
  },
  {
   "cell_type": "markdown",
   "metadata": {
    "slideshow": {
     "slide_type": "slide"
    }
   },
   "source": [
    "### Questions:\n",
    "\n",
    "- What data structure would you use to organize the locus tags, and their respective protein sequences?\n",
    "   arrays or hashes?\n",
    "\n"
   ]
  },
  {
   "cell_type": "markdown",
   "metadata": {
    "slideshow": {
     "slide_type": "fragment"
    }
   },
   "source": [
    "A=Both are possible!\n",
    "\n",
    "- And to accomodate the annotations?"
   ]
  },
  {
   "cell_type": "markdown",
   "metadata": {
    "slideshow": {
     "slide_type": "fragment"
    }
   },
   "source": [
    "- If you use a hash, what would be the key and the value?"
   ]
  },
  {
   "cell_type": "markdown",
   "metadata": {
    "slideshow": {
     "slide_type": "slide"
    }
   },
   "source": [
    "## Let's first create a hash with the locus tag as key and the protein product as value\n",
    "\n",
    "- Use as basis the script you created yesterday\n",
    "- First create a regular expression to get the product\n",
    "\n",
    "e.g.\n",
    "\n",
    "````bash\n",
    "\\/product=\\\"(.*)\\\"\n",
    "````"
   ]
  },
  {
   "cell_type": "markdown",
   "metadata": {
    "slideshow": {
     "slide_type": "slide"
    }
   },
   "source": [
    "## Do you remember how to create a hash?\n",
    "\n",
    "e.g. \n",
    "\n",
    "````bash\n",
    "\n",
    "\t$prot_product {$locus_tag} = $product;   \n",
    "    #this will create a key with the locus tag in the current memory.\n",
    "````\n"
   ]
  },
  {
   "cell_type": "markdown",
   "metadata": {
    "slideshow": {
     "slide_type": "slide"
    }
   },
   "source": [
    "## Do you remember how to print a hash?\n",
    "\n",
    "````bash\n",
    "foreach my $locus (keys (%prot_product)){\n",
    "\tprint \">\". $locus . \" \". $prot_product{$locus}. \"\\n\";\n",
    "\tprint \"$prot_seqs{$locus}\\n\";\n",
    "}\n",
    "````"
   ]
  },
  {
   "cell_type": "code",
   "execution_count": 15,
   "metadata": {
    "collapsed": false,
    "slideshow": {
     "slide_type": "skip"
    }
   },
   "outputs": [
    {
     "name": "stderr",
     "output_type": "stream",
     "text": [
      "cat: /home/lsayaved/ownCloud/perlcourse2017/Day1-2_LSA/6666666.225369.gbk2: No such file or directory\n",
      "Use of uninitialized value $seq in substitution (s///) at /home/lsayaved/ownCloud/perlcourse2017/Day1-2_LSA/GBKtoFASTA.pl line 39.\n"
     ]
    }
   ],
   "source": [
    "%%bash\n",
    "cat ~/ownCloud/perlcourse2017/Day1-2_LSA/6666666.225369.gbk | perl /home/lsayaved/ownCloud/perlcourse2017/Day1-2_LSA/GBKtoFASTA.pl"
   ]
  },
  {
   "cell_type": "markdown",
   "metadata": {
    "slideshow": {
     "slide_type": "slide"
    }
   },
   "source": [
    "## Homework:\n",
    "\n",
    "- Extract now a multifasta file with all the nucleotide sequences of a muti-genbank file\n",
    "\n",
    "- Once the students know how to open and close different files, create a script to provide a list with protein identifiers and extract that subset of protein sequences\n",
    "\n",
    " "
   ]
  },
  {
   "cell_type": "code",
   "execution_count": 23,
   "metadata": {
    "collapsed": false,
    "slideshow": {
     "slide_type": "skip"
    }
   },
   "outputs": [
    {
     "name": "stdout",
     "output_type": "stream",
     "text": [
      ">SOX1354 Nitrate reductase cytochrome c550-type subunit\n",
      "MKTKILALTIASVFTLGSQANFFGSGHNWNNPFSTVIENIKEVAEEVKEVATDTVDSVKDATEVVVDTVTDVASSAADVVDVASLRGTHVLDDLSIAPDKIKWIKKNVEFERNYDDQPPLIPHKTDGMTINLKKNKCLSCHSDENYKEEDSPKMSSTHFFTRDETRLPEMSPRRYFCLQCHVPQAKLDPLVDSNFVNLDE\n",
      ">SOX1355 Ferredoxin-type protein NapF (periplasmic\n",
      "MIDFSKGGCSFCKKCVTSCQYDAFSKVDAPWNLTANIKDSCLSKIGVVCQSCSEVCEHGAIEFSLQMGGVPQIAMDTSHCNGCGECVSVCPKSAIQLN\n",
      ">SOX1612 tRNA-Ser-GGA\n",
      "MNQMHAHLLAESELKVETVKIQQQAYLGDADAQYKLADIFQKGQDVSRNTTHAFYWYQRAAKQGNLAAQFNVWYAYLTGEGTQADEQLAKKWYARATLKNSSSSKSIITQLIETTIH\n"
     ]
    }
   ],
   "source": [
    "%%bash\n",
    "perl /home/lsayaved/ownCloud/perlcourse2017/Day2-1_LSA/FetchCDSfromGBK.pl /home/lsayaved/ownCloud/perlcourse2017/Day2-1_LSA/identifiers.txt /home/lsayaved/ownCloud/perlcourse2017/Day2-1_LSA/Example-2MutipleCDS.gbk /home/lsayaved/ownCloud/perlcourse2017/Day2-1_LSA/out.faa"
   ]
  },
  {
   "cell_type": "code",
   "execution_count": null,
   "metadata": {
    "collapsed": true
   },
   "outputs": [],
   "source": []
  },
  {
   "cell_type": "code",
   "execution_count": null,
   "metadata": {
    "collapsed": true
   },
   "outputs": [],
   "source": []
  }
 ],
 "metadata": {
  "anaconda-cloud": {},
  "celltoolbar": "Slideshow",
  "kernelspec": {
   "display_name": "Python [conda root]",
   "language": "python",
   "name": "conda-root-py"
  },
  "language_info": {
   "codemirror_mode": {
    "name": "ipython",
    "version": 3
   },
   "file_extension": ".py",
   "mimetype": "text/x-python",
   "name": "python",
   "nbconvert_exporter": "python",
   "pygments_lexer": "ipython3",
   "version": "3.5.2"
  }
 },
 "nbformat": 4,
 "nbformat_minor": 1
}
