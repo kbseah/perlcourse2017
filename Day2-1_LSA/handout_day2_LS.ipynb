{
 "cells": [
  {
   "cell_type": "markdown",
   "metadata": {
    "slideshow": {
     "slide_type": "slide"
    }
   },
   "source": [
    "# A quick guide to arrays\n",
    "\n",
    "```bash\n",
    "my @array = ();                # declare an empty array\n",
    "\n",
    "my (@array, $value) = ((),0); # declare an empty array and a scalar with value 0\n",
    "\n",
    "@array = (1..25);  # declares an array with the values from 1 to 25\n",
    "```\n",
    "- Push: add one or more values to the end of an array  `push @updated_students, 'Jane';`\n",
    "\n",
    "- Push: add an array to an array `push @updated_students, @others;`\n",
    "\n",
    "- Pop: remove the last element of an array `$last = pop @updated_students; `\n",
    "\n",
    "\n",
    "```bash\n",
    "$scalar = \\@array;   # reference of @array (address)\n",
    "\n",
    "$scalar->[10];       # element 11 of @array\n",
    "\n",
    "$$scalar[10];        # element 11 of @array (same as before)\n",
    "\n",
    "@{$scalar};          # same as @array\n",
    "```\n",
    "\n",
    "- Shift: removes first element of the array ````bash my $first = shift @updated_students;````\n",
    "- Unshift: add elements at the beginning of the array ````bash unshift @updated_students, 'Marie';````\n",
    "- Add a second array:  ````bash unshift @updated_students, @others;````\n",
    "- Split: Cut a string into pieces and create an array\n",
    "````bash\n",
    "my $str = \"ab cd ef gh ij\";\n",
    "my @words = split / /, $str;\n",
    "````\n",
    "- Join elements of an array by a character `$str = join ':', @names;`\n",
    "- Join array elements and a string `$str2 = join '', @names, 'Baz';`\n",
    "\n",
    "# Hashes\n",
    "\n",
    "```bash\n",
    "$scalar = \\%hash;    # reference to %hash\n",
    "\n",
    "%{$scalar};          # same as %hash\n",
    "```\n",
    "\n",
    "- Creates an array with the values of the hash: `my @colors = values(%colors_of); `\n",
    "\n",
    "- Checking for the existence of keys:  `if( exists($colors_of{$check_fruit} ) ){}`\n",
    "\n",
    "- Keys of a hash are stored in an array: `@fruits = keys %colors_of;`\n",
    "\n",
    "- The keys can be sorted and printed:\n",
    "````bash\n",
    "foreach $fruit (sort (@fruits))   {\n",
    "    print \"$fruit $color_of{ $fruit } \\n\"; }\n",
    "````"
   ]
  }
 ],
 "metadata": {
  "anaconda-cloud": {},
  "celltoolbar": "Slideshow",
  "kernelspec": {
   "display_name": "Python [default]",
   "language": "python",
   "name": "python3"
  },
  "language_info": {
   "codemirror_mode": {
    "name": "ipython",
    "version": 3
   },
   "file_extension": ".py",
   "mimetype": "text/x-python",
   "name": "python",
   "nbconvert_exporter": "python",
   "pygments_lexer": "ipython3",
   "version": "3.5.2"
  }
 },
 "nbformat": 4,
 "nbformat_minor": 1
}
