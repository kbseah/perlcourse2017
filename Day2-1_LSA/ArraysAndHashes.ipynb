{
 "cells": [
  {
   "cell_type": "markdown",
   "metadata": {},
   "source": [
    "<h1 id=\"tocheading\">Table of Contents</h1>\n",
    "<div id=\"toc\"></div>"
   ]
  },
  {
   "cell_type": "code",
   "execution_count": 1,
   "metadata": {
    "collapsed": false
   },
   "outputs": [
    {
     "data": {
      "application/javascript": [
       "$.getScript('https://kmahelona.github.io/ipython_notebook_goodies/ipython_notebook_toc.js')"
      ],
      "text/plain": [
       "<IPython.core.display.Javascript object>"
      ]
     },
     "metadata": {},
     "output_type": "display_data"
    }
   ],
   "source": [
    "%%javascript\n",
    "$.getScript('https://kmahelona.github.io/ipython_notebook_goodies/ipython_notebook_toc.js')"
   ]
  },
  {
   "cell_type": "markdown",
   "metadata": {
    "collapsed": false
   },
   "source": [
    "# Basic data structures: arrays and hashes\n",
    "\n",
    "Perl course – Feb. 2017\n",
    "\n",
    "# 1. Arrays\n",
    "\n",
    "Ordered list of scalar data (elements) accessed through a numeric script (index)\n",
    "\n",
    "Declaring values of an array\n",
    "\n",
    "- Mixing numbers and strings is possible\n",
    "\n",
    "```perl\n",
    "@grades=(\"John\", \"98\", \"Christian\", \"77\", \"Jule\", \"88\");\n",
    "```\n",
    "\n",
    "- Creating an empty array\n",
    "\n",
    "```perl\n",
    "my @array = ();\n",
    "```\n",
    "\n",
    "- Using an existing array to create a new array\n",
    "\n",
    "```perl\n",
    "@students = (\"Alex\", \"Paul\", \"Burak\");\n",
    "@updated_students = (\"Marie\", \"Ana\", @students);\n",
    "```\n",
    "\n",
    "- Accessing array elements\n",
    "\n",
    "## Push - add one or more values to the end of an array \n",
    "\n",
    "- Add element in last position\n",
    "\n",
    "```perl\n",
    "push @updated_students, 'Jane';\n",
    "print \"@names\\n\";     #Marie Ana Alex Paul Burak Jane\n",
    "```\n",
    "\n",
    "- Add an array to an array\n",
    "\n",
    "```perl\n",
    "my @others = ('Darth', 'Vader');\n",
    "push @updated_students, @others;\n",
    "\n",
    "print \"@updated_students\\n\"; \n",
    "#Marie Ana Alex Paul Burak Jane Darth Vader\n",
    "```\n",
    "## Pop – remove the last element of an array\n",
    "- Remove and return the last element of an array     \n",
    "\n",
    "```perl\n",
    "my $last = pop @updated_students; \n",
    "\n",
    "print \"$last\\n\";  # Vader\n",
    "print \"@updated_students\\n\";    \n",
    "# Marie Ana Alex Paul Burak Jane Darth\n",
    "```"
   ]
  },
  {
   "cell_type": "markdown",
   "metadata": {},
   "source": [
    "## Shift – removes first element of the array\n",
    "```perl\n",
    "my $first = shift @updated_students;\n",
    "\n",
    "print \"$first\\n\";     # Marie\n",
    "print \"@updated_students\\n\";     \n",
    "#Ana Alex Paul Burak Jane Darth\n",
    "```\n",
    "## Unshift - add elements at the beginning of the array\n",
    "\n",
    "- Add one element\n",
    "```perl\n",
    "unshift @updated_students, 'Marie';\n",
    "print \"@updated_students\\n\";    \n",
    "#Marie Ana Alex Paul Burak Jane Darth \n",
    "```\n",
    "\n",
    "- Add a second array\n",
    "```perl\n",
    "my @others = ('Jens', 'Nina');\n",
    "unshift @updated_students, @others;\n",
    "print \"@updated_students\\n\";     \n",
    "#Jens Nina Marie Ana Alex Paul Burak Jane Darth\n",
    "```\n",
    "## Split - Cut a string into pieces and create an array\n",
    "\n",
    "- Cuts a string into pieces and creates an array\n",
    "\n",
    "```perl\n",
    "my $str = \"ab cd ef gh ij\";\n",
    "\n",
    "my @words = split / /, $str;\n",
    "\n",
    "```\n",
    "* What would be the value of ```$words[1]?```\n",
    "\n",
    "- Useful when reading files:\n",
    "\n",
    "```perl\n",
    "while(<FILE>) \n",
    "## reading file \n",
    "{\n",
    "\tpush( @matrix , split(/\\s+/,$_);\n",
    " }\n",
    "```\n",
    "\n",
    "## Join – counterpart of split\n",
    "- Join elements of an array by a character\n",
    "\n",
    "\n"
   ]
  },
  {
   "cell_type": "code",
   "execution_count": 25,
   "metadata": {
    "collapsed": false
   },
   "outputs": [
    {
     "name": "stdout",
     "output_type": "stream",
     "text": [
      "Alex:Paul:Burak\n",
      "Alex:Paul:Burak-names\n",
      "AlexPaulBurakBaz\n"
     ]
    }
   ],
   "source": [
    "%%perl\n",
    "\n",
    "my @names = (\"Alex\", \"Paul\", \"Burak\");\n",
    "my $str = join ':', @names;\n",
    "\n",
    "print $str. \"\\n\";                       # Alex:Paul:Burak\n",
    "\n",
    "#- Join strings by a character\n",
    "\n",
    "\n",
    "my $data = join \"-\", $str, \"names\";\n",
    "\n",
    "print $data. \"\\n\";\n",
    "# Alex:Paul:Burak-names\n",
    "\n",
    "\n",
    "#- Join array elements and a string\n",
    "\n",
    "$str2 = join '', @names, 'Baz';\n",
    "print $str2. \"\\n\"; \n",
    "\n"
   ]
  },
  {
   "cell_type": "markdown",
   "metadata": {},
   "source": [
    "# 2.Multidimensional arrays (e.g. matrix)\n",
    "- Explicit declaration\n",
    "\n",
    "- Assign elements of a matrix with loops"
   ]
  },
  {
   "cell_type": "code",
   "execution_count": 26,
   "metadata": {
    "collapsed": false
   },
   "outputs": [
    {
     "name": "stdout",
     "output_type": "stream",
     "text": [
      "\n",
      "0 0 0 0 0 0 0 0 0 0 \n",
      "0 1 2 3 4 5 6 7 8 9 \n",
      "0 2 4 6 8 10 12 14 16 18 \n",
      "0 3 6 9 12 15 18 21 24 27 \n",
      "0 4 8 12 16 20 24 28 32 36 "
     ]
    }
   ],
   "source": [
    "%%perl\n",
    "\n",
    "my @mat;\n",
    "for($i=0; $i<5; $i++){\n",
    "print \"\\n\";\n",
    "    for($j=0; $j<10; $j++){\n",
    "        $mat[$i][$j] = $i * $j;\n",
    "        print $mat[$i][$j]. \" \";\n",
    "    }\n",
    "}\n"
   ]
  },
  {
   "cell_type": "code",
   "execution_count": 27,
   "metadata": {
    "collapsed": false
   },
   "outputs": [
    {
     "name": "stdout",
     "output_type": "stream",
     "text": [
      "1 1 1 1 1 1 1 1 1 1 \n"
     ]
    }
   ],
   "source": [
    "%%perl\n",
    "#- Assign entire rows of a matrix using push and an array reference constructor []\n",
    "\n",
    "@dimension = (1,1,1,1,1,1,1,1,1,1);\n",
    "push(@mat, [@dimension]);\n",
    "\n",
    "\n",
    "#- To print we need to loop through the array\n",
    "\n",
    "for my $array (@mat){\n",
    "    print \"@$array \\n\";\n",
    "}\n",
    "\n",
    "\n",
    "#- Add columns to an existing row\n",
    "\n",
    "push @{ $mat[0] }, 40, 70;\n"
   ]
  },
  {
   "cell_type": "markdown",
   "metadata": {},
   "source": [
    "# 3. Hashes\n",
    "A hash is an unordered group of key-value pairs and is declared with %\n",
    "\n",
    "- Creating hashes on by one\n",
    "```perl\n",
    "$colors_of {'apple'} = green; \n",
    "```\n",
    "\n",
    "- When accessing a specific key-value pair, we use \\$ because we are accessing a single \\scalar. The key is placed in curly braces.\n",
    "\n",
    "* Creation of hashes\n",
    "\n",
    "## Creating a hash with a list\n",
    "\n",
    "\n"
   ]
  },
  {
   "cell_type": "code",
   "execution_count": 18,
   "metadata": {
    "collapsed": false
   },
   "outputs": [
    {
     "name": "stdout",
     "output_type": "stream",
     "text": [
      "Element one of colors array is purple\n",
      "******************************************\n",
      "The apple is green\n",
      "******************************************\n",
      "grape\n",
      "******************************************\n",
      "apple  \n",
      "grape  \n",
      "orange  \n"
     ]
    }
   ],
   "source": [
    "%%perl\n",
    "\n",
    "my %colors_of = (\n",
    "        \"apple\"  => \"green\",\n",
    "        \"orange\" => \"orange\",\n",
    "        \"grape\"  => \"purple\",);\n",
    "        \n",
    "## Hashes –values and keys\n",
    "# Creates an array with the values of the hash\n",
    "\n",
    "\n",
    "my @colors = values(%colors_of); \n",
    "print \"Element one of colors array is $colors[0]\\n\";  #green\n",
    "print \"******************************************\\n\";\n",
    "\n",
    "\n",
    "# Checking for the existence of keys\n",
    "\n",
    "my $check_fruit = \"apple\";\n",
    "if( exists($colors_of{$check_fruit} ) ){\n",
    "   print \"The $check_fruit is $colors_of{$check_fruit}\\n\";\n",
    "}\n",
    "else{\n",
    "   print \"I don't know the color of the $check_fruit\\n\";\n",
    "}\n",
    "\n",
    "print \"******************************************\\n\";\n",
    "\n",
    "## Hashes - keys\n",
    "# The keys of the hash are stored in an array\n",
    "\n",
    "@fruits = keys %colors_of;\n",
    "print \"$fruits[0]\\n\";  #apple\n",
    "\n",
    "print \"******************************************\\n\";\n",
    "\n",
    "# The keys can be sorted and printed\n",
    "\n",
    "\n",
    "foreach $fruit (sort (@fruits))   {\n",
    "    print \"$fruit $color_of{ $fruit } \\n\";\n",
    "}\n",
    "#apple green\n",
    "#grape purple\n",
    "#orange orange\n",
    "\n"
   ]
  },
  {
   "cell_type": "markdown",
   "metadata": {},
   "source": [
    "# 4. Combining arrays and hashes\n",
    "\n",
    "- An array with the codons of each a.a. \n"
   ]
  },
  {
   "cell_type": "code",
   "execution_count": 3,
   "metadata": {
    "collapsed": false
   },
   "outputs": [
    {
     "name": "stdout",
     "output_type": "stream",
     "text": [
      "S TCT,TCC,TCA,TCG,AGT,AGC,\n",
      "F TTT,TTC,\n",
      "L TTA,TTG,CTT,CTC,CTA,CTG,\n",
      "Y TAT,TAC,\n"
     ]
    }
   ],
   "source": [
    "%%perl\n",
    "my %codons = (\n",
    " 'F' => ['TTT','TTC'], \n",
    " 'L' => ['TTA','TTG','CTT','CTC','CTA','CTG'], \n",
    " 'S' => ['TCT','TCC','TCA','TCG','AGT','AGC'], \n",
    " 'Y' => ['TAT','TAC'], \n",
    "); \n",
    "# $codons{'L'} is a reference to an array\n",
    "\n",
    "# To print the values\n",
    "\n",
    "foreach my $amino (keys(%codons)) {#goes key by key\n",
    "   print \"$amino \"; \n",
    "     foreach my $codon ( @{ $codons{$amino} } ) {      #returns the codons associated to a key \n",
    "         print \"$codon,\";\n",
    "    } \n",
    "         print \"\\n\"; \n",
    "} "
   ]
  },
  {
   "cell_type": "markdown",
   "metadata": {
    "collapsed": true
   },
   "source": []
  },
  {
   "cell_type": "markdown",
   "metadata": {},
   "source": [
    "# Exercises with arrays and hashes\n",
    "\n",
    "Now is your turn to apply what you just learn!\n",
    "\n",
    "We created previously a perl script to read a genbank file and extract the locus tag, the protein sequence, and the nucleotide sequence of the scaffold. Now it's time to make things more interesting!\n",
    "\n",
    "Let's fecth our genbank file and produce a fasta file with the protein sequences. The identifiers of the sequences should have the protein annotation\n",
    "\n",
    "## Tips:\n",
    "\n",
    "- Make a hash with the locus tags and their respective sequences.\n",
    "\n",
    "Questions: \n",
    " - What would be your key?\n",
    " - What would be your value?\n",
    "\n",
    "- Make a second hash with the locus tags and their annotations\n",
    " \n",
    "Question:\n",
    "- Can you think of a different data structure to solve this problem?\n",
    "\n",
    "\n",
    "\n",
    "\n",
    "\n",
    "\n"
   ]
  }
 ],
 "metadata": {
  "anaconda-cloud": {},
  "kernelspec": {
   "display_name": "Python [default]",
   "language": "python",
   "name": "python3"
  },
  "language_info": {
   "codemirror_mode": {
    "name": "ipython",
    "version": 3
   },
   "file_extension": ".py",
   "mimetype": "text/x-python",
   "name": "python",
   "nbconvert_exporter": "python",
   "pygments_lexer": "ipython3",
   "version": "3.5.2"
  }
 },
 "nbformat": 4,
 "nbformat_minor": 1
}
