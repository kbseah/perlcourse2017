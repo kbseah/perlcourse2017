{
 "cells": [
  {
   "cell_type": "markdown",
   "metadata": {},
   "source": [
    "# Iteration \n",
    "\n",
    "Computers are machines. Machines are useful for repetitive tasks because humans get bored easily and make mistakes.\n",
    "\n",
    "Iteration, which is a fancy word for \"repeating things in a loop\", is one of the most useful things you'll learn from this course."
   ]
  },
  {
   "cell_type": "markdown",
   "metadata": {},
   "source": [
    "## Iteration with a counter\n",
    "\n",
    "Let's take a simple iterative task: counting from one to ten. How could we tell a machine to do this?\n",
    "\n",
    "One way to do this is with a counter. Just like keeping count with fingers, the computer can use a counter variable to keep track of where it is in the task.\n",
    "\n",
    "As you'll have realized by now, things have to be spelled out explicitly. To count from one to ten, you need to specify three things:\n",
    "\n",
    " * At what value to start the counter\n",
    " * At what value of the counter to stop\n",
    " * By how much to increment the counter at each step"
   ]
  },
  {
   "cell_type": "markdown",
   "metadata": {},
   "source": [
    "### Using `while`"
   ]
  },
  {
   "cell_type": "code",
   "execution_count": 9,
   "metadata": {
    "collapsed": false
   },
   "outputs": [
    {
     "name": "stdout",
     "output_type": "stream",
     "text": [
      "1\n",
      "2\n",
      "3\n",
      "4\n",
      "5\n",
      "6\n",
      "7\n",
      "8\n",
      "9\n",
      "10\n"
     ]
    }
   ],
   "source": [
    "%%perl\n",
    "\n",
    "my $i = 1; # Define a counter with its initial value\n",
    "\n",
    "while ($i <= 10) { # Define a condition to stop the loop\n",
    "    print $i; # Print value of the counter\n",
    "    print \"\\n\";\n",
    "    $i++; # Increment the counter by one\n",
    "}"
   ]
  },
  {
   "cell_type": "markdown",
   "metadata": {},
   "source": [
    "Notice that where you place the increment statement matters. This is a common source of bugs involving loops!"
   ]
  },
  {
   "cell_type": "code",
   "execution_count": 13,
   "metadata": {
    "collapsed": false
   },
   "outputs": [
    {
     "name": "stdout",
     "output_type": "stream",
     "text": [
      "Here we've incremented _before_ printing the value \n",
      "2\n",
      "3\n",
      "4\n",
      "5\n",
      "6\n",
      "7\n",
      "8\n",
      "9\n",
      "10\n",
      "11\n"
     ]
    }
   ],
   "source": [
    "%%perl\n",
    "\n",
    "my $i = 1; # Define a counter with its initial value\n",
    "\n",
    "print \"Here we've incremented _before_ printing the value \\n\";\n",
    "while ($i <= 10) { # Define a condition to stop the loop\n",
    "    $i++; # Increment the counter by one\n",
    "    print $i; # Print value of the counter\n",
    "    print \"\\n\";\n",
    "}"
   ]
  },
  {
   "cell_type": "markdown",
   "metadata": {},
   "source": [
    "The expression within parentheses after `while` is a logical condition. It is evaluated after every iteration of the loop. If the condition is true, the loop carries on, otherwise the loop terminates."
   ]
  },
  {
   "cell_type": "markdown",
   "metadata": {},
   "source": [
    "### Using `for`\n",
    "\n",
    "Doing loops with `while` can be messy: the counter variable has to be defined outside the loop, and three things necessary for iteration appear in three different places: before the loop, at the condition line, and within the loop.\n",
    "\n",
    "An alternative is to use `for`, where the three things all appear together in the same line:"
   ]
  },
  {
   "cell_type": "code",
   "execution_count": 7,
   "metadata": {
    "collapsed": false
   },
   "outputs": [
    {
     "name": "stdout",
     "output_type": "stream",
     "text": [
      "1\n",
      "2\n",
      "3\n",
      "4\n",
      "5\n",
      "6\n",
      "7\n",
      "8\n",
      "9\n",
      "10\n"
     ]
    }
   ],
   "source": [
    "%%perl\n",
    "\n",
    "for (my $i = 1; $i <= 10; $i++) {\n",
    "    print $i;\n",
    "    print \"\\n\";\n",
    "}"
   ]
  },
  {
   "cell_type": "markdown",
   "metadata": {},
   "source": [
    "To refresh your memory, here's the three things again:\n",
    "\n",
    " * Where to start - \"Initialization\" - `my $i = 1`\n",
    " * When to stop - \"Condition\" - `$i <= 10`\n",
    " * How much to increment - \"Increment\" - `$i++`\n",
    "\n",
    "They all appear immediately after `for`, separated by semicolons.\n",
    "\n",
    "This has at least two advantages:\n",
    " * The code is tidier - less likely to make mistakes with putting the increment statement in the wrong place, for example.\n",
    " * The counter variable is defined only within the loop. This means that you don't have to worry about accidentally re-using the same counter variable name elsewhere."
   ]
  },
  {
   "cell_type": "markdown",
   "metadata": {},
   "source": [
    "## Iteration over an array\n",
    "\n",
    "Using a counter, as shown above, is a simple and explicit way to understand how iteration works. However, Perl offers a shorter way to iterate when you're dealing with an array.\n",
    "\n",
    "An array is a list of elements, and is naturally suited for iteration. Let's say we have an array and we want to do something to each element of that array. We've already learned that you can extract individual elements from an array, like so:"
   ]
  },
  {
   "cell_type": "code",
   "execution_count": 2,
   "metadata": {
    "collapsed": false
   },
   "outputs": [
    {
     "name": "stdout",
     "output_type": "stream",
     "text": [
      "The fourth element of the array is: 3\n"
     ]
    }
   ],
   "source": [
    "%%perl\n",
    "\n",
    "my @Arr = (1, 1, 2, 3, 5, 8, 13);\n",
    "\n",
    "print \"The fourth element of the array is: \";\n",
    "print $Arr[3];\n",
    "print \"\\n\";"
   ]
  },
  {
   "cell_type": "markdown",
   "metadata": {},
   "source": [
    "**Exercise**\n",
    "\n",
    "Create a `for` loop with a counter, to take the square of each element in the array `@Arr`. Hint: Use `scalar()` to find the length of `@Arr`."
   ]
  },
  {
   "cell_type": "code",
   "execution_count": 5,
   "metadata": {
    "collapsed": false
   },
   "outputs": [
    {
     "name": "stdout",
     "output_type": "stream",
     "text": [
      "1\n",
      "1\n",
      "4\n",
      "9\n",
      "25\n",
      "64\n",
      "169\n"
     ]
    }
   ],
   "source": [
    "%%perl\n",
    "# Answer to the Exercise\n",
    "\n",
    "my @Arr = (1, 1, 2, 3, 5, 8, 13);\n",
    "\n",
    "for (my $i=0; $i < scalar(@Arr); $i++) {\n",
    "    print $Arr[$i]**2;\n",
    "    print \"\\n\";\n",
    "}"
   ]
  },
  {
   "cell_type": "markdown",
   "metadata": {},
   "source": [
    "However this is a rather unwieldy procedure. Luckily for us, Perl has a way of iterating across an array with a more natural, English-like syntax using `foreach`:"
   ]
  },
  {
   "cell_type": "code",
   "execution_count": 6,
   "metadata": {
    "collapsed": false
   },
   "outputs": [
    {
     "name": "stdout",
     "output_type": "stream",
     "text": [
      "1\n",
      "1\n",
      "4\n",
      "9\n",
      "25\n",
      "64\n",
      "169\n"
     ]
    }
   ],
   "source": [
    "%%perl\n",
    "\n",
    "my @Arr = (1, 1, 2, 3, 5, 8, 13);\n",
    "\n",
    "foreach my $element (@Arr) {\n",
    "    print $element**2;\n",
    "    print \"\\n\";\n",
    "}"
   ]
  },
  {
   "cell_type": "markdown",
   "metadata": {},
   "source": [
    "We can translate this roughly as saying: \"For each element in the array `@Arr`, for which we shall give the temporary name `$element`, do (*something*).\"\n",
    "\n",
    "Benefits of this: No need to keep track of an additional counter variable, code is simplified and easier to read, and closer to how we would describe in natural language what we want to accomplish.\n",
    "\n",
    "Points to note:\n",
    " * A variable name to represent the element of the array within the loop must be declared. This variable is only defined within the loop.\n",
    " * The name of the array must be surrounded by parentheses"
   ]
  },
  {
   "cell_type": "markdown",
   "metadata": {},
   "source": [
    "You can also directly edit an array within the loop:"
   ]
  },
  {
   "cell_type": "code",
   "execution_count": 24,
   "metadata": {
    "collapsed": false
   },
   "outputs": [
    {
     "name": "stdout",
     "output_type": "stream",
     "text": [
      "Before: 1, 1, 2, 3, 5, 8, 13\n",
      "After: 1, 1, 4, 9, 25, 64, 169\n"
     ]
    }
   ],
   "source": [
    "%%perl\n",
    "\n",
    "my @Arr = (1, 1, 2, 3, 5, 8, 13);\n",
    "\n",
    "print \"Before: \";\n",
    "print join \", \", @Arr;\n",
    "print \"\\n\";\n",
    "\n",
    "foreach my $element (@Arr) {\n",
    "    $element = $element**2;\n",
    "}\n",
    "\n",
    "print \"After: \";\n",
    "print join \"\\, \", @Arr;\n",
    "print \"\\n\";"
   ]
  },
  {
   "cell_type": "markdown",
   "metadata": {},
   "source": [
    "## Exercises\n",
    "\n",
    " * For an array of integers from 1 to 10 (see below), write loops to do the following tasks, using each of the three methods (`while`, `for`, `foreach`) described above:\n",
    "  * Return the square of each integer\n",
    "  * Take a running sum, i.e. 1, 1+2, 1+2+3, ...\n",
    "  * Take a running product, i.e. the factorial series\n",
    " * Write a loop to return the Fibonacci series \n"
   ]
  },
  {
   "cell_type": "code",
   "execution_count": 21,
   "metadata": {
    "collapsed": false
   },
   "outputs": [],
   "source": [
    "%%perl\n",
    "\n",
    "my @Arr = 1..10; # Make an array of integers from 1 to 10"
   ]
  }
 ],
 "metadata": {
  "anaconda-cloud": {},
  "kernelspec": {
   "display_name": "Python 2",
   "language": "python",
   "name": "python2"
  },
  "language_info": {
   "codemirror_mode": {
    "name": "ipython",
    "version": 2
   },
   "file_extension": ".py",
   "mimetype": "text/x-python",
   "name": "python",
   "nbconvert_exporter": "python",
   "pygments_lexer": "ipython2",
   "version": "2.7.9"
  }
 },
 "nbformat": 4,
 "nbformat_minor": 1
}
