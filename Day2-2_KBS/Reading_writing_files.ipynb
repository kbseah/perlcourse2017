{
 "cells": [
  {
   "cell_type": "markdown",
   "metadata": {},
   "source": [
    "# Reading and writing files\n",
    "\n",
    "In this tutorial you will learn about\n",
    "\n",
    " * Standard streams and filehandles\n",
    " * `open` and `close` to read and write external files\n",
    " * Using a `while` loop to read in multiple lines from a file\n",
    " * `chomp` to process input lines\n",
    " * **Extra:** Error reporting with `die`\n",
    " * **Extra:** Processing delimited input like CSV or TSV files with `split`\n",
    " * **Extra:** Reading input from `STDIN`\n",
    " * **Extra:** Reading whole file into a string (\"slurping\")"
   ]
  },
  {
   "cell_type": "markdown",
   "metadata": {},
   "source": [
    "## Review: STDIN, STDOUT, STDERR\n",
    "\n",
    "The Internet may or may not be a [series of tubes](https://en.wikipedia.org/wiki/Series_of_tubes), but Unix (and Linux) is like a bunch of pipes. A typical Unix program directs input and output through three [**standard streams**](https://en.wikipedia.org/wiki/Standard_streams):\n",
    "\n",
    " * Standard input (`STDIN`)\n",
    " * Standard output (`STDOUT`)\n",
    " * Standard error (`STDERR`) - Used for error messages and diagnostics\n",
    "\n",
    "If you're using a text console, `STDOUT` and `STDERR` are typically displayed to the screen. \n",
    "\n",
    "Of course, not all programs require all three streams. For example, some programs like `ls` take no input, and others like `mv` display no standard output but act directly on the filesystem. And as we are all aware, some programs don't say anything when there's an error....\n",
    "\n",
    "In the bash shell, you can **pipe** the `STDOUT` from one program directly into the `STDIN` of another, like so:\n",
    "\n",
    "```\n",
    "ls | less\n",
    "```\n",
    "\n",
    "This redirects the `STDOUT` from `ls` not to the terminal window, but to the paged text viewer `less`.\n",
    "\n",
    "You can also redirect `STDOUT` to a file:\n",
    "\n",
    "```\n",
    "ls > list_of_files\n",
    "```\n",
    "\n",
    "The `STDERR` can also be redirected. For example, trying to find the manual page for the nonexistent program `foobar` produces an error message:\n",
    "\n",
    "```\n",
    "man foobar 2> error_message\n",
    "```\n",
    "\n",
    "To convert the contents of a file into a stream, you can use the `cat` command:\n",
    "\n",
    "```\n",
    "cat error_message # contents of file to STDOUT - defaults to display on text terminal\n",
    "cat error_message | sed 's/entry/page/' # Substitute the word 'page' for 'entry'\n",
    "```\n",
    "\n",
    "To pipe output from a program to a file *and* to `STDOUT` at the same time, use the program `tee` (the name comes explicitly from a [plumbing metaphor](https://en.wikipedia.org/wiki/Tee_(command%29)).\n",
    "\n",
    "Okay, now back to perl..."
   ]
  },
  {
   "cell_type": "markdown",
   "metadata": {},
   "source": [
    "## Filehandles\n",
    "\n",
    "So far we've been using the `print` command to write output to screen. By default, it writes to `STDOUT`."
   ]
  },
  {
   "cell_type": "code",
   "execution_count": 12,
   "metadata": {
    "collapsed": false
   },
   "outputs": [
    {
     "name": "stdout",
     "output_type": "stream",
     "text": [
      "Hello world!\n",
      "Hello world!\n"
     ]
    }
   ],
   "source": [
    "%%perl\n",
    "\n",
    "print STDOUT \"Hello world!\\n\"; \n",
    "# Notice no comma between STDOUT and \"Hello world!\\n\"\n",
    "\n",
    "print \"Hello world!\\n\"; # does the same thing"
   ]
  },
  {
   "cell_type": "markdown",
   "metadata": {},
   "source": [
    "You can also print to **standard error**, `STDERR`, which as the name suggests is typically used for error messages or status alerts by a running program, rather than the actual desired output."
   ]
  },
  {
   "cell_type": "code",
   "execution_count": 5,
   "metadata": {
    "collapsed": false
   },
   "outputs": [
    {
     "name": "stderr",
     "output_type": "stream",
     "text": [
      "ERROR: Goodbye world!\n"
     ]
    }
   ],
   "source": [
    "%%perl\n",
    "\n",
    "print STDERR \"ERROR: Goodbye world!\\n\";"
   ]
  },
  {
   "cell_type": "markdown",
   "metadata": {},
   "source": [
    "The `STDOUT` and `STDERR` in all-caps are special arguments telling the `print` function where to send its output. "
   ]
  },
  {
   "cell_type": "markdown",
   "metadata": {},
   "source": [
    "## Writing to a file\n",
    "\n",
    "If you want the output from a perl script to be written to a specific file, you could do this using the standard redirection operator in bash, like so"
   ]
  },
  {
   "cell_type": "code",
   "execution_count": null,
   "metadata": {
    "collapsed": true
   },
   "outputs": [],
   "source": [
    "%%bash\n",
    "# Illustration only - code will not execute\n",
    "perl example.pl > example.txt"
   ]
  },
  {
   "cell_type": "markdown",
   "metadata": {},
   "source": [
    "However, you could also specify a specific output file within the perl script itself. This could be useful for several reasons:\n",
    "\n",
    " * More than one output file (vs. only one STDOUT)\n",
    " * Filename for output is generated by the perl script itself\n",
    " * STDOUT already being used for some other output\n",
    "\n",
    "To do this, you need to learn how to use `open` and `close`."
   ]
  },
  {
   "cell_type": "code",
   "execution_count": 51,
   "metadata": {
    "collapsed": false
   },
   "outputs": [
    {
     "name": "stderr",
     "output_type": "stream",
     "text": [
      "Opening file for writing\n"
     ]
    }
   ],
   "source": [
    "%%perl\n",
    "\n",
    "my $output_file = \"perlIO_example.txt\"; # Define a variable containing output filename\n",
    "\n",
    "print STDERR \"Opening file for writing\\n\"; \n",
    "# Example of using STDERR for a status message that is not the \n",
    "# primary desired output of the script but still informative\n",
    "\n",
    "open (OUTPUT, \">\", $output_file);\n",
    "print OUTPUT \"Hello world\\n\";\n",
    "close (OUTPUT);\n"
   ]
  },
  {
   "cell_type": "markdown",
   "metadata": {},
   "source": [
    "You should now find a new file called `perlIO_example.txt` containing the line \"Hello world\".\n",
    "\n",
    "Notice how the `print` command now takes an argument `OUTPUT` instead of `STDIN` or `STDOUT`. This argument is known as the \"filehandle\". The filehandle was created within the `open` function, and serves as an alias (or \"handle\") for the output stream that is piped to that particular file. This allows more than one file to be open simultaneously for reading and/or writing. \n",
    "\n",
    "The style of the `open` command here has three parts - this is the currently recommended form, although you will still see tutorials and code examples using the old two-part style on the Web. We'll stick to the **three-part open** in this course.\n",
    "\n",
    "The three arguments to `open` are: \n",
    "\n",
    " * **Filehandle** (`OUTPUT`)\n",
    "  * Used by subsequent `print` commands to send output to the right place\n",
    " * **Mode** (`\">\"`)\n",
    "  * Similar to the bash redirection operators - specifies whether reading or writing\n",
    " * **Filename** (`$output_file`)\n",
    "  * Either a character string or a variable, giving the filename\n",
    "\n",
    "Every `open` command should be matched by a corresponding `close` for the same filehandle. "
   ]
  },
  {
   "cell_type": "code",
   "execution_count": 52,
   "metadata": {
    "collapsed": true
   },
   "outputs": [],
   "source": [
    "%%perl\n",
    "\n",
    "open (OUTPUT, \">\", \"perlIO_example.txt\"); # Filename directly given in open command\n",
    "print OUTPUT \"Hello world\\n\";\n",
    "close (OUTPUT);"
   ]
  },
  {
   "cell_type": "markdown",
   "metadata": {},
   "source": [
    "### Using variable as a filehandle\n",
    "\n",
    "An all-caps name like `OUTPUT` is the old-school way of specifying a filehandle in perl. The name is arbitrary, so `OUT` or `THEOUTPUT` or `FOOBAR` would all work just as well. \n",
    "\n",
    "However, it's now recommended to define a variable to use as a filehandle, rather than the traditional filehandles, for various reasons. (See [`perldoc open`](http://perldoc.perl.org/functions/open.html))\n",
    "\n",
    "In the examples below, `$fh` and `$fh2` serve as filehandles, just like `OUTPUT` in the preceding example."
   ]
  },
  {
   "cell_type": "code",
   "execution_count": 54,
   "metadata": {
    "collapsed": true
   },
   "outputs": [],
   "source": [
    "%%perl\n",
    "\n",
    "my $output_file = \"perlIO_example.txt\";\n",
    "\n",
    "open (my $fh, \">\", $output_file); # Define filehandle variable within the open command\n",
    "print $fh \"Hello world\\n\";\n",
    "close ($fh);\n",
    "\n",
    "my $fh2; # Filehandle variable can also be defined before the open command\n",
    "open ($fh2, \">\", $output_file);\n",
    "print $fh2 \"Hello world\\n\";\n",
    "close($fh2);"
   ]
  },
  {
   "cell_type": "markdown",
   "metadata": {},
   "source": [
    "## Appending to a file\n",
    "\n",
    "In the bash shell, if you use the redirection operator `>`, it will overwrite any existing data in the file. If you want to simply *append* to the end of the file, you use the `>>` operator instead.\n",
    "\n",
    "The same syntax is used for the mode of `open` in perl: `>` for write, `>>` for append.\n",
    "\n",
    "If the file doesn't already exist, the append mode will create a new file, just like write mode. "
   ]
  },
  {
   "cell_type": "code",
   "execution_count": 55,
   "metadata": {
    "collapsed": true
   },
   "outputs": [],
   "source": [
    "%%perl\n",
    "\n",
    "my $output_file = \"perlIO_example.txt\";\n",
    "\n",
    "open (my $fh, \">>\", $output_file);\n",
    "print $fh \"Hello world again\\n\";\n",
    "close ($fh);"
   ]
  },
  {
   "cell_type": "markdown",
   "metadata": {},
   "source": [
    "## Reading from a file\n",
    "\n",
    "Reading from a file uses the same `open` and `close` commands, except that - you guessed it - the mode is different.\n",
    "\n",
    "You might also guess, from the analogy to bash, that to specify read mode, you use the `<` operator.\n",
    "\n",
    "In the example below, let's try to open the file that we created in the earlier example, and print its contents to the screen (STDOUT)."
   ]
  },
  {
   "cell_type": "code",
   "execution_count": 56,
   "metadata": {
    "collapsed": false
   },
   "outputs": [
    {
     "name": "stdout",
     "output_type": "stream",
     "text": [
      "GLOB(0x7fe481802ee8)"
     ]
    }
   ],
   "source": [
    "%%perl\n",
    "\n",
    "my $input_file = \"perlIO_example.txt\"; # Opening the file we wrote to earlier\n",
    "\n",
    "open (my $fh, \"<\", $input_file);\n",
    "print STDOUT $fh; \n",
    "close($fh);"
   ]
  },
  {
   "cell_type": "markdown",
   "metadata": {},
   "source": [
    "Okay, something's weird - What's this `GLOB` business?\n",
    "\n",
    "Recall what we said earlier about filehandles. They are like an alias, or a reference, pointing to some location to send output or receive input. \n",
    "\n",
    "By trying to print the filehandle `$fh` directly, we are simply seeing the internal name that perl has assigned for this particular input stream. It's not meant for human consumption!\n",
    "\n",
    "What we want to see is not the reference to this file, but instead the *contents* of the file. That's why we'll need an additional operator, the **readline operator**, which operates on the filehandle and gives us the contents. The readline operator is a pair of angled brackets that surround the filehandle, e.g. `<FILEHANDLE>`\n",
    "\n",
    "Perl was designed primarily to work with text files. Text files are usually split across several lines. The readline operator returns one line at a time, as shown in the following example:"
   ]
  },
  {
   "cell_type": "code",
   "execution_count": 57,
   "metadata": {
    "collapsed": false
   },
   "outputs": [
    {
     "name": "stdout",
     "output_type": "stream",
     "text": [
      "The first line from file perlIO_example.txt is:\n",
      "Hello world\n",
      "The second line from file perlIO_example.txt is:\n",
      "Hello world again\n"
     ]
    }
   ],
   "source": [
    "%%perl\n",
    "\n",
    "my $input_file = \"perlIO_example.txt\";\n",
    "\n",
    "open (my $fh, \"<\", $input_file);\n",
    "my $line = <$fh>; \n",
    "print \"The first line from file $input_file is:\\n\";\n",
    "print $line; # first line\n",
    "\n",
    "my $line2 = <$fh>;\n",
    "print \"The second line from file $input_file is:\\n\";\n",
    "print $line2; # second line\n",
    "close($fh);"
   ]
  },
  {
   "cell_type": "markdown",
   "metadata": {},
   "source": [
    "### Reading input with a `while` loop\n",
    "\n",
    "It's tedious to write something like this over and over again, so if all the lines in a file are to be processed in the same way, you could put this in a loop with `while`. There is a special syntax for this:"
   ]
  },
  {
   "cell_type": "code",
   "execution_count": 58,
   "metadata": {
    "collapsed": false
   },
   "outputs": [
    {
     "name": "stdout",
     "output_type": "stream",
     "text": [
      "Line number 1 from file perlIO_example.txt:\n",
      "Hello world\n",
      "Hello world\n",
      "Line number 2 from file perlIO_example.txt:\n",
      "Hello world again\n",
      "Hello world again\n"
     ]
    }
   ],
   "source": [
    "%%perl\n",
    "\n",
    "my $input_file = \"perlIO_example.txt\";\n",
    "\n",
    "open (my $fh, \"<\", $input_file);\n",
    "my $counter = 0; # A counter for the line numbers\n",
    "\n",
    "while (<$fh>) { # Start the reading loop\n",
    "    $counter++; # Update the counter\n",
    "    \n",
    "    # The current line is always assigned to a special variable called $_\n",
    "    my $current_line = $_;\n",
    "    \n",
    "    print \"Line number $counter from file $input_file:\\n\";\n",
    "    print $current_line;\n",
    "    print $_; # Same thing\n",
    "}\n",
    "close($fh);"
   ]
  },
  {
   "cell_type": "markdown",
   "metadata": {},
   "source": [
    "### Stripping end-of-line characters with `chomp`\n",
    "\n",
    "Notice that the lines that you read it still keep the newline character. This can be troublesome if you need to process the text in some way (as you probably do). For example, if your script is supposed to rearrange the words on every line, then the newline character which is attached to the last word of each line would break up the resulting text in a way that you probably do not want.\n",
    "\n",
    "Newline and/or return characters at the end of each line can be stripped with the `chomp` command."
   ]
  },
  {
   "cell_type": "code",
   "execution_count": 59,
   "metadata": {
    "collapsed": false
   },
   "outputs": [
    {
     "name": "stdout",
     "output_type": "stream",
     "text": [
      "Without chomp:\n",
      "Hello world\n",
      "Hello world again\n",
      "\n",
      "\n",
      "With chomp:\n",
      "Hello worldHello world again"
     ]
    }
   ],
   "source": [
    "%%perl\n",
    "\n",
    "my $input_file = \"perlIO_example.txt\";\n",
    "\n",
    "print \"Without chomp:\\n\";\n",
    "open (my $fh, \"<\", $input_file);\n",
    "while (<$fh>) {\n",
    "    print $_; \n",
    "}\n",
    "close($fh);\n",
    "\n",
    "print \"\\n\\n\";\n",
    "\n",
    "print \"With chomp:\\n\";\n",
    "open (my $fh, \"<\", $input_file);\n",
    "while (<$fh>) {\n",
    "    chomp; # This implicitly operates on the special variable $_;\n",
    "    print $_; \n",
    "}\n",
    "close($fh);"
   ]
  },
  {
   "cell_type": "markdown",
   "metadata": {},
   "source": [
    "## Extra: Error messages when files cannot be opened\n",
    "\n",
    "What happens when a file can't be opened?"
   ]
  },
  {
   "cell_type": "code",
   "execution_count": 60,
   "metadata": {
    "collapsed": true
   },
   "outputs": [],
   "source": [
    "%%perl\n",
    "\n",
    "my $input_file = \"fake_file.txt\"; # Filename that doesn't exist\n",
    "\n",
    "open(my $fh, \"<\", $input_file); # Open file\n",
    "# Do something to the file here...\n",
    "close($fh); # Close file"
   ]
  },
  {
   "cell_type": "markdown",
   "metadata": {},
   "source": [
    "Notice how the error is silently ignored. \n",
    "\n",
    "That's not so helpful when it's part of a larger script. If the script doesn't work, you want to know which part is causing the problem. That's where the `die` command comes in handy. \n",
    "\n",
    "The syntax should be self-explanatory."
   ]
  },
  {
   "cell_type": "code",
   "execution_count": 61,
   "metadata": {
    "collapsed": false
   },
   "outputs": [
    {
     "name": "stderr",
     "output_type": "stream",
     "text": [
      "Died at - line 4.\n"
     ]
    }
   ],
   "source": [
    "%%perl\n",
    "\n",
    "my $input_file = \"fake_file.txt\";\n",
    "\n",
    "open(my $fh, \"<\", $input_file) or die ;\n",
    "close($fh);\n",
    "\n",
    "print \"The script stops at die so commands after that line are not executed\\n\";"
   ]
  },
  {
   "cell_type": "markdown",
   "metadata": {},
   "source": [
    "If the `open` command cannot work, e.g. a missing input file, or trying to write to a folder where the user has no write permissions, then `die` will stop the script and tell you which line of the script caused it.\n",
    "\n",
    "You can also customize the error message, for example to report the name of the file that can't be opened."
   ]
  },
  {
   "cell_type": "code",
   "execution_count": 40,
   "metadata": {
    "collapsed": false,
    "scrolled": true
   },
   "outputs": [
    {
     "name": "stdout",
     "output_type": "stream",
     "text": [
      "Custom error message \n"
     ]
    },
    {
     "name": "stderr",
     "output_type": "stream",
     "text": [
      "Cannot open file fake_file.txt at - line 6.\n"
     ]
    }
   ],
   "source": [
    "%%perl\n",
    "\n",
    "my $input_file = \"fake_file.txt\";\n",
    "\n",
    "print \"Custom error message \\n\";\n",
    "\n",
    "open(my $fh, \"<\", $input_file) or die (\"Cannot open file $input_file\");\n",
    "close($fh);"
   ]
  },
  {
   "cell_type": "markdown",
   "metadata": {},
   "source": [
    "Two special variables can be used with the `die` command: `$!` will describe the type of error, whereas `$?` will give the error code number."
   ]
  },
  {
   "cell_type": "code",
   "execution_count": 43,
   "metadata": {
    "collapsed": false
   },
   "outputs": [
    {
     "name": "stdout",
     "output_type": "stream",
     "text": [
      "Custom error message with more details \n"
     ]
    },
    {
     "name": "stderr",
     "output_type": "stream",
     "text": [
      "Cannot open file fake_file.txt. Error code 0: No such file or directory at - line 6.\n"
     ]
    }
   ],
   "source": [
    "%%perl\n",
    "\n",
    "my $input_file = \"fake_file.txt\";\n",
    "\n",
    "print \"Custom error message with more details \\n\";\n",
    "\n",
    "open(my $fh, \"<\", $input_file) or die (\"Cannot open file $input_file. Error code $?: $!\");\n",
    "close($fh);"
   ]
  },
  {
   "cell_type": "markdown",
   "metadata": {},
   "source": [
    "## Extra: Processing delimited output with `split`\n",
    "\n",
    "Tables of data are often stored as delimited files such as the CSV (comma-separated variables) or TSV (tab-separated) formats. Reading and processing such input is a very common task that's easily done in perl with the `split` function, which lets you split up a string into an array by specifying what character is used to delimit the data fields. "
   ]
  },
  {
   "cell_type": "code",
   "execution_count": 62,
   "metadata": {
    "collapsed": false
   },
   "outputs": [
    {
     "name": "stdout",
     "output_type": "stream",
     "text": [
      "apple\n",
      "orange\n",
      "pear\n",
      "kiwi\n",
      "banana\n"
     ]
    }
   ],
   "source": [
    "%%perl\n",
    "\n",
    "# Write some data to a file in CSV format\n",
    "\n",
    "my $csv_file = \"perlIO_example_table.csv\";\n",
    "\n",
    "open (my $fh, \">\", $csv_file) or die;\n",
    "print $fh \"apple,33,pome\\n\";\n",
    "print $fh \"orange,23,hesperidium\\n\";\n",
    "print $fh \"pear,11,pome\\n\";\n",
    "print $fh \"kiwi,41,berry\\n\";\n",
    "print $fh \"banana,50,berry\\n\";\n",
    "close($fh);\n",
    "\n",
    "# Now let's try to read it in and report only the values of the first column\n",
    "\n",
    "open (my $fh, \"<\", $csv_file) or die;\n",
    "while (<$fh>) {\n",
    "    chomp; # Don't forget! Strip the newline character from end of each line\n",
    "    \n",
    "    # Recall that the contents of current line are stored in special variable $_\n",
    "    my $line = $_;\n",
    "    # Split each line into an array, using the comma as separator\n",
    "    my @line_split = split \",\", $line;\n",
    "    # Report only the value of the first column in each line\n",
    "    print $line_split[0]; \n",
    "    print \"\\n\";\n",
    "}\n",
    "close($fh);"
   ]
  },
  {
   "cell_type": "markdown",
   "metadata": {},
   "source": [
    "## Extra: Processing STDIN from keyboard or from a file\n",
    "\n",
    "You've learned how to process input from a file by with `open` and filehandles. But recall the review in the beginning about how Unix pipes work. Could you also write a script that could be combined with other programs at the bash command line?\n",
    "\n",
    "```\n",
    "cat somefile | perl somescript.pl > output\n",
    "```\n",
    "\n",
    "In the hypothetical example above, `cat` is writing the contents of `somefile` to STDOUT, which is piped with the `|` character to the STDIN of a perl script called `somescript.pl`, and the STDOUT of that program is written to a file called `output`. You could read the file directly using perl with `open`, but let's say you want to read from STDIN. How do you do this?\n",
    "\n",
    "You might have guessed already: use the `STDIN` stream!"
   ]
  },
  {
   "cell_type": "code",
   "execution_count": 3,
   "metadata": {
    "collapsed": false
   },
   "outputs": [
    {
     "name": "stdout",
     "output_type": "stream",
     "text": [
      "\n"
     ]
    }
   ],
   "source": [
    "%%perl\n",
    "\n",
    "# This code won't work in Jupyter notebook because it requires user interaction\n",
    "\n",
    "print \"Please type something:\\n\";\n",
    "my $input = <STDIN>;\n",
    "chomp $input; # Remove the return character at the end of the input\n",
    "\n",
    "print \"You typed the following:\\n\";\n",
    "print $input;\n",
    "print \"\\n\";"
   ]
  },
  {
   "cell_type": "markdown",
   "metadata": {},
   "source": [
    "If you write a script like the above and run it, it'll say \"Please type something\" and wait until you do and press enter, then tell you what you typed. Note the following three points:\n",
    "\n",
    " * This is an example of STDIN from the keyboard, i.e. user interaction, which can be used to make text-based role playing games, or for interactive menus, etc.\n",
    " * The angle-brackets readline operator only processes one line at a time, and lines are (by default) delimited by the newline character. So the program knows that you've finished typing the input when you press 'enter'. If you want more than one line of input, you could use a loop (more on that later).\n",
    " * Instead of typing the input to STDIN, you could redirect it with a pipe!\n",
    "\n",
    "An example of a bash command that would do this:\n",
    "\n",
    "```\n",
    "echo \"my input\" | perl thescript.pl \n",
    "```\n",
    "\n",
    "If your input has more than one line (e.g. a multi-line file) and you want to process each line as it comes in through the stream, use a `while` loop like so:"
   ]
  },
  {
   "cell_type": "code",
   "execution_count": 4,
   "metadata": {
    "collapsed": true
   },
   "outputs": [],
   "source": [
    "%%perl\n",
    "\n",
    "# This code won't work in Jupyter notebook because it requires external input\n",
    "\n",
    "while (<STDIN>) {\n",
    "    # Remember the $_ special variable holds the current line read from the stream in this loop\n",
    "    chomp; # Chop off the end-of-line character\n",
    "    my $line = $_; \n",
    "    print \"The current line is: $line\\n\";\n",
    "}"
   ]
  },
  {
   "cell_type": "markdown",
   "metadata": {},
   "source": [
    "Translated to English: `while` there is still something coming in through the STDIN input stream, do the following: chomp off the end of line character, assign the current line of input to a new variable called `$line`, and print a message to STDOUT saying what that input was. Rinse and repeat.\n",
    "\n",
    "What happens if you run this perl code without a pipe to STDIN?\n",
    "\n",
    "```\n",
    "perl thescript.pl\n",
    "```\n",
    "\n",
    "Then you'll be faced with a silent prompt like before, and the <STDIN> will accept input from keyboard. But wait, previously you could tell it when you reached the end of input by pressing 'enter' because the <> operator only reads one line at a time. Now that you've nested it in a loop, how do you stop?\n",
    "\n",
    "You should have asked that question before trying to run the script! Simply type `Ctrl-D`, which is the End of Transmission (EOT) character. This is an example of a [control character](https://en.wikipedia.org/wiki/Control_character), which date back to the days when the default output of a computer was a printer rather than a screen, and has origins in telegraphic codes. "
   ]
  },
  {
   "cell_type": "markdown",
   "metadata": {},
   "source": [
    "## Extra: Reading whole file into a string\n",
    "\n",
    "Perl's default is to read files line by line. This is because it was designed for processing text like tables and log files, where each line is an entry.\n",
    "\n",
    "Sometimes it makes sense to have the entire file in a single string, e.g. to apply a regex to search within the whole file. You can still split it up later into lines using `split` on the newline character `\\n`. \n",
    "\n",
    "To do this, you'll need to look \"under the hood\". \n",
    "\n",
    "There is a special variable called `$/` (that's the normal slash), the *input record separator*. The default value is `\\n` (hence each line represents one record). To \"slurp\" a file into a single string, you'll want to tell Perl that there is no separator, i.e. let `$/` be undefined. \n",
    "\n",
    "However, you only want this to apply to a single file and not for your entire script. To \"isolate\" this undefining of the input record separator, use the command `local` and fence off the slurping within curly braces."
   ]
  },
  {
   "cell_type": "code",
   "execution_count": 5,
   "metadata": {
    "collapsed": false
   },
   "outputs": [
    {
     "name": "stdout",
     "output_type": "stream",
     "text": [
      "297"
     ]
    }
   ],
   "source": [
    "%%perl\n",
    "\n",
    "my $file = \"demo_argv.pl\";\n",
    "my $contents; # Define variable to hold the contents\n",
    "{ # Curly braces to contain the local definition of the separator\n",
    "    open (my $fh, \"<\", $file) or die (\"$!\"); # Open file\n",
    "    local $/ = undef; # Temporarily undefine the separator\n",
    "    $contents = <$fh>; # Slurp!\n",
    "    close $fh;\n",
    "}\n",
    "print length($contents); # Length of file contents in characters"
   ]
  },
  {
   "cell_type": "markdown",
   "metadata": {},
   "source": [
    "## Remove files generated in this tutorial"
   ]
  },
  {
   "cell_type": "code",
   "execution_count": 63,
   "metadata": {
    "collapsed": true
   },
   "outputs": [],
   "source": [
    "%%bash\n",
    "\n",
    "rm perlIO_example_*"
   ]
  },
  {
   "cell_type": "markdown",
   "metadata": {},
   "source": [
    "# Exercises\n",
    "\n",
    "Write scripts for the following tasks:\n",
    "\n",
    " * Write a table of integers from 1 to 100 and their squares to a new file. (Hint: Use a `for` loop.)\n",
    " * Add the integers from 101 to 200 and their squares to the same file that you created in the previous exercise. \n",
    " * Read a Fasta file and report only the header lines. (Hint: Use `if` and regex.)"
   ]
  }
 ],
 "metadata": {
  "anaconda-cloud": {},
  "kernelspec": {
   "display_name": "Python [conda root]",
   "language": "python",
   "name": "conda-root-py"
  },
  "language_info": {
   "codemirror_mode": {
    "name": "ipython",
    "version": 3
   },
   "file_extension": ".py",
   "mimetype": "text/x-python",
   "name": "python",
   "nbconvert_exporter": "python",
   "pygments_lexer": "ipython3",
   "version": "3.5.2"
  }
 },
 "nbformat": 4,
 "nbformat_minor": 1
}
