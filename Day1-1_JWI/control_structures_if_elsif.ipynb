{
 "cells": [
  {
   "cell_type": "markdown",
   "metadata": {},
   "source": [
    "## The if statement\n",
    "\n",
    "`if` allows Perl to execute some block of code based on a desicion made before, e.g. based on the outcome of comparing two values:"
   ]
  },
  {
   "cell_type": "code",
   "execution_count": 1,
   "metadata": {
    "collapsed": false
   },
   "outputs": [
    {
     "name": "stdout",
     "output_type": "stream",
     "text": [
      "Sequences are identical\n"
     ]
    }
   ],
   "source": [
    "%%perl\n",
    "\n",
    "#!/usr/bin/perl\n",
    "use strict;\n",
    "use warnings;\n",
    "use diagnostics;\n",
    "\n",
    "my $sequence_1 = \"ATCG\";\n",
    "my $sequence_2 = \"ATCG\";\n",
    "\n",
    "if ($sequence_1 eq $sequence_2) {\n",
    "    print \"Sequences are identical\\n\";\n",
    "} "
   ]
  },
  {
   "cell_type": "markdown",
   "metadata": {},
   "source": [
    "The code enclosed in curly braces `{}` will be executed if the condition is fulfilled (`true`)\n",
    "\n",
    "__ Style convention: __ Indent the statements enclosed in the block and align the ending brace `}` vertically with the corresponding if statement to make the code more readable and understandable!"
   ]
  },
  {
   "cell_type": "code",
   "execution_count": 2,
   "metadata": {
    "collapsed": true
   },
   "outputs": [],
   "source": [
    "%%perl\n",
    "\n",
    "#!/usr/bin/perl\n",
    "use strict;\n",
    "use warnings;\n",
    "use diagnostics;\n",
    "\n",
    "my $sequence_1 = \"ATCG\";\n",
    "my $sequence_2 = \"ATCg\";\n",
    "\n",
    "if ($sequence_1 eq $sequence_2) {\n",
    "    print \"Sequences are identical\\n\";\n",
    "} "
   ]
  },
  {
   "cell_type": "markdown",
   "metadata": {},
   "source": [
    "## The else statement\n",
    "\n",
    "`else` allows you to execute code if a conditions isn't met, e.g. if the outcome of a comparision is `false`:"
   ]
  },
  {
   "cell_type": "code",
   "execution_count": 3,
   "metadata": {
    "collapsed": false
   },
   "outputs": [
    {
     "name": "stdout",
     "output_type": "stream",
     "text": [
      "Sequences are not identical\n"
     ]
    }
   ],
   "source": [
    "%%perl\n",
    "\n",
    "#!/usr/bin/perl\n",
    "use strict;\n",
    "use warnings;\n",
    "use diagnostics;\n",
    "\n",
    "my $sequence_1 = \"ATCG\";\n",
    "my $sequence_2 = \"ATCg\";\n",
    "\n",
    "if ($sequence_1 eq $sequence_2) {\n",
    "    print \"Sequences are identical\\n\";\n",
    "} else {\n",
    "    print \"Sequences are not identical\\n\";\n",
    "}"
   ]
  },
  {
   "cell_type": "markdown",
   "metadata": {},
   "source": [
    "`if` and `else` work just the same if the Boolean true or false values is stored in a variable:"
   ]
  },
  {
   "cell_type": "code",
   "execution_count": 6,
   "metadata": {
    "collapsed": false
   },
   "outputs": [
    {
     "name": "stdout",
     "output_type": "stream",
     "text": [
      "Sequences are identical\n",
      "Sequences don’t match\n"
     ]
    }
   ],
   "source": [
    "%%perl\n",
    "\n",
    "#!/usr/bin/perl\n",
    "use strict;\n",
    "use warnings;\n",
    "use diagnostics;\n",
    "\n",
    "my $compare1 = \"ATCG\" eq \"ATCG\";\n",
    "my $compare2 = \"ATCG\" eq \"AAAA\";\n",
    "\n",
    "if ($compare1) {\n",
    "    print \"Sequences are identical\\n\";\n",
    "} else {\n",
    "    print \"Sequences are not identical\\n\";\n",
    "}\n",
    "\n",
    "if (! $compare2) {\n",
    "    print \"Sequences don’t match\\n\";\n",
    "}\n"
   ]
  },
  {
   "cell_type": "markdown",
   "metadata": {},
   "source": [
    "## Logical operators\n",
    "\n",
    "Logical operators allow us to string together multiple conditions:\n",
    "\n",
    "`&& = AND`\n",
    "\n",
    "`|| = OR`"
   ]
  },
  {
   "cell_type": "markdown",
   "metadata": {},
   "source": [
    "```perl\n",
    "if (condition_1 && condition_2) {\n",
    "    print \"Both conditions are true!\";\n",
    "} elsif (condition_1 || condition_2) {\n",
    "    print \"At least one or the other condition is true\";\n",
    "} \n",
    "```"
   ]
  },
  {
   "cell_type": "code",
   "execution_count": 8,
   "metadata": {
    "collapsed": false
   },
   "outputs": [
    {
     "name": "stdout",
     "output_type": "stream",
     "text": [
      "GC content is between 40% and 60%\n"
     ]
    }
   ],
   "source": [
    "%%perl\n",
    "\n",
    "#!/usr/bin/perl\n",
    "use strict;\n",
    "use warnings;\n",
    "use diagnostics;\n",
    "\n",
    "my $GC = 50;\n",
    "\n",
    "if ( ($GC >= 40) && ($GC <=60) ) {\n",
    "    print \"GC content is between 40% and 60%\\n\";\n",
    "}"
   ]
  },
  {
   "cell_type": "markdown",
   "metadata": {},
   "source": [
    "## The elsif statement\n",
    "The `elsif` statement (note the spelling!) allows you to check a number of conditions in consecutive order:"
   ]
  },
  {
   "cell_type": "markdown",
   "metadata": {},
   "source": [
    "```perl\n",
    "if (condition) {\n",
    "    do something;\n",
    "} elsif (condition){\n",
    "    do something else;\n",
    "} elsif (condition){\n",
    "    do another thing;\n",
    "} else {\n",
    "    do when all other conditions fail;\n",
    "}\n",
    "```"
   ]
  },
  {
   "cell_type": "markdown",
   "metadata": {},
   "source": [
    "## Variable scope\n",
    "\n",
    "Variables have different __scope__ meaning that they are \"visible\" to Perl across the whole script or only within a block of code enclosed in curly braces `{}`\n",
    "\n",
    "Variables declared with `my` are called __lexical variables__ and are only visible within the block of code they were initialized in:"
   ]
  },
  {
   "cell_type": "markdown",
   "metadata": {},
   "source": [
    "```perl\n",
    "{\n",
    "    my $variable = 5;\n",
    "    \n",
    "    print “$variable\\n”;\n",
    "}\n",
    "```"
   ]
  },
  {
   "cell_type": "markdown",
   "metadata": {},
   "source": [
    "If `my` is not enclosed within a block, it is valid (visible for Perl) throught the script"
   ]
  }
 ],
 "metadata": {
  "anaconda-cloud": {},
  "kernelspec": {
   "display_name": "Python [conda root]",
   "language": "python",
   "name": "conda-root-py"
  },
  "language_info": {
   "codemirror_mode": {
    "name": "ipython",
    "version": 2
   },
   "file_extension": ".py",
   "mimetype": "text/x-python",
   "name": "python",
   "nbconvert_exporter": "python",
   "pygments_lexer": "ipython2",
   "version": "2.7.12"
  }
 },
 "nbformat": 4,
 "nbformat_minor": 1
}
