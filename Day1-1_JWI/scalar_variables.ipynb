{
 "cells": [
  {
   "cell_type": "markdown",
   "metadata": {},
   "source": [
    "# Scalar data and scalar variables\n",
    "\n",
    "__ Scalar data __ are single data values, composed of numbers, letters and other characters, e.g. the numbers 5, 134, 1e-10 are all scalar data, as are character strings like hello, blablablubb, 3g6jd6s and ATCGGGCTTCA.\n",
    "\n",
    "Scalar data are stored in __ scalar variables __.\n",
    "\n",
    "Scalar variable hold exactly one value. There are other types of variables, calles hashes and arrays, that can hold many values (you'll learn more about these later).\n",
    "\n",
    "While the name of a variable is permanent, the value it holds can change indefinitely. \n",
    "\n",
    "## Notation of a scalar variable\n",
    "\n",
    "Scalar variables look like this:\n",
    "\n",
    "```perl\n",
    "$name\n",
    "```\n",
    "\n",
    "$ = called sigil, tells Perl that this is a scalar variable\n",
    "\n",
    "name = the name of the variable that you give to it (also called the Perl identifier)\n",
    "\n",
    "As with anything else in Perl, variable names are case-sensitive, i.e. \n",
    "\n",
    "```\n",
    "$name =/= $NAME =/= $nAmE\n",
    "```"
   ]
  },
  {
   "cell_type": "markdown",
   "metadata": {},
   "source": [
    "## Naming of scalar variables\n",
    "\n",
    "Variable names may consist of alphanumeric characters and underscores, but can't start with a number and shouldn't start with an underscore (variables `$1, $2, etc. and $_` have special meaning, as you will see later)"
   ]
  },
  {
   "cell_type": "markdown",
   "metadata": {},
   "source": [
    "### Recommendations\n",
    "\n",
    "* names should be descriptive and meaningful (names like a, b , c and var don't help you understand what kind of value the variable holds)\n",
    "* names should be of reasonable length\n",
    "* avoid ALLCAPS (the are some special variables, like `$ARGV`, so ALLCAPS names might cause problems)\n",
    "* style: choose either underscores (e.g. `$fasta_sequence`) or CamelCase (e.g. `$fastaSequence`), be consistent in your style"
   ]
  },
  {
   "cell_type": "markdown",
   "metadata": {},
   "source": [
    "## Initializing variables\n",
    "\n",
    "The first time you declare any variable, it needs to be initialized with \"my\":"
   ]
  },
  {
   "cell_type": "code",
   "execution_count": 1,
   "metadata": {
    "collapsed": false
   },
   "outputs": [
    {
     "name": "stdout",
     "output_type": "stream",
     "text": [
      "ATCCCTGCTA\n"
     ]
    }
   ],
   "source": [
    "%%perl\n",
    "\n",
    "#!/usr/bin/perl\n",
    "# written by Juliane Wippler 2016-02-08 (Perl course)\n",
    "use strict;\n",
    "use warnings;\n",
    "use diagnostics;\n",
    "\n",
    "my $sequence = \"ATCCCTGCTA\";\n",
    "\n",
    "print \"$sequence\\n\";"
   ]
  },
  {
   "cell_type": "markdown",
   "metadata": {},
   "source": [
    "Variables can be empty when initialized:\n",
    "\n",
    "```perl\n",
    "my $sequence;\n",
    "\n",
    "my $GC_content;\n",
    "```"
   ]
  },
  {
   "cell_type": "markdown",
   "metadata": {
    "collapsed": true
   },
   "source": [
    "## Assign values to variables (assignment operator)\n",
    "\n",
    "A value is assigned to a variable using the equals `=` sign:\n",
    "\n",
    "```\n",
    "$sequence = \"ATCGATGG\";\n",
    "$Seq_ID = \"contig_1\";\n",
    "$GC_content = 54;\n",
    "```"
   ]
  },
  {
   "cell_type": "markdown",
   "metadata": {},
   "source": [
    "## Scalar data: Numbers\n",
    "\n",
    "Numbers can be specified as\n",
    "\n",
    "* integers: 1, 2, 3, -5034\n",
    "* floating-point numbers = decimal numbers (1.35, 1.00, 7.5e4, -6.5e57, 1E-10)\n",
    "\n",
    "Internally, Perl treats everything as double-precision floating-point values (= precision up to the ~16th decimal)"
   ]
  },
  {
   "cell_type": "markdown",
   "metadata": {},
   "source": [
    "### Numeric operators\n",
    "\n",
    "Basic numeric operators work exactly as you would expect:\n",
    "\n",
    "```\n",
    "2 + 2\taddition\n",
    "7.5 - 3\tsubtraction\n",
    "5 * 4\tmultiplication\n",
    "9 / 3\tdivision\n",
    "```"
   ]
  },
  {
   "cell_type": "markdown",
   "metadata": {},
   "source": [
    "### Autoincrement and Autodecrement\n",
    "\n",
    "Perl can automatically increase (autoincrement) or decrease (autodecrement) the value of a variable by 1, which is very, very useful if e.g. you want to keep count of something."
   ]
  },
  {
   "cell_type": "code",
   "execution_count": 21,
   "metadata": {
    "collapsed": false
   },
   "outputs": [
    {
     "name": "stdout",
     "output_type": "stream",
     "text": [
      "The value of $count is 4\n"
     ]
    }
   ],
   "source": [
    "%%perl\n",
    "\n",
    "#!/usr/bin/perl\n",
    "use strict;\n",
    "use warnings;\n",
    "use diagnostics;\n",
    "\n",
    "my $count = 3;\n",
    "$count++;\n",
    "print \"The value of \\$count is $count\\n\";"
   ]
  },
  {
   "cell_type": "markdown",
   "metadata": {},
   "source": [
    "## Scalar data: Strings\n",
    "\n",
    "Strings are sequences of characters, for example: hello, R2D2, blablablubb, ACTTTCGCAGCATCG\n",
    "\n",
    "* characters can be letters, digits, punctuation, whitespaces ('R2D2' is not the same as 'R2 D2'!)\n",
    "* any combination of characters and any length is allowed (provided it still fits into your computer's memory)\n",
    "* the shortest of all strings has zero characters (= empty string, null string)"
   ]
  },
  {
   "cell_type": "markdown",
   "metadata": {},
   "source": [
    "### Single quotes vs. double quotes\n",
    "\n",
    "Strings are quoted as __literal__ if they are enclosed in single quotes `''`\n",
    "\n",
    "* no variable interpolation\n",
    "* no interpolation of special escape characters like newline `\\n`\n",
    "* if the single quote character itself or a backslash need to be part of a string, they need to be __escaped__ by __adding a backslash in front__ :\n"
   ]
  },
  {
   "cell_type": "code",
   "execution_count": 5,
   "metadata": {
    "collapsed": false
   },
   "outputs": [
    {
     "name": "stdout",
     "output_type": "stream",
     "text": [
      "Don't forget to escape the apostrophe with a backslash: \\"
     ]
    }
   ],
   "source": [
    "%%perl\n",
    "\n",
    "#!/usr/bin/perl\n",
    "use strict;\n",
    "use warnings;\n",
    "use diagnostics;\n",
    "\n",
    "print 'Don\\'t forget to escape the apostrophe with a backslash: \\\\';"
   ]
  },
  {
   "cell_type": "code",
   "execution_count": 20,
   "metadata": {
    "collapsed": false
   },
   "outputs": [
    {
     "name": "stdout",
     "output_type": "stream",
     "text": [
      "The sequence is GGGGTTTT\n",
      "$sequence\n",
      "$sequence\n"
     ]
    }
   ],
   "source": [
    "%%perl\n",
    "\n",
    "#!/usr/bin/perl\n",
    "use strict;\n",
    "use warnings;\n",
    "use diagnostics;\n",
    "\n",
    "my $sequence;\n",
    "\n",
    "$sequence = $sequence . \"GGGGTTTT\"; \n",
    "print \"The sequence is $sequence\\n\"; # There is more than one way to do it!\n",
    "print '$sequence' . \"\\n\"; # There is more than one way to do it!\n",
    "print \"\\$sequence\\n\"; # There is more than one way to do it!"
   ]
  },
  {
   "cell_type": "markdown",
   "metadata": {},
   "source": [
    "Double quotes allow us to use special backslash escape characters like newline `\\n` and others:\n",
    "\n",
    "```perl\n",
    "\\n\t\tNewline\n",
    "\\r\t\tReturn\n",
    "\\t\t\tTab\n",
    "\\f\t\tFormfeed\n",
    "\\b\t\tBackspace\n",
    "\\a\t\tBell\n",
    "\\e\t\tEscape (ASCII escape character)\n",
    "\\007\t\tAny octal ASCII value (here, 007 = bell)\n",
    "\\x7f\t\tAny two-digit, hex ASCII value (here, 7f = delete)\n",
    "\\cC\t\tA “control” character (here, Ctrl-C)\n",
    "\\\\\t\tBackslash\n",
    "\\\\”\t\tDouble quote\n",
    "\\l\t\tLowercase next letter\n",
    "\\L\t\tLowercase all following letters until \\E\n",
    "\\u\t\tUppercase next letter\n",
    "\\U\t\tUppercase all following letters until \\E\n",
    "\\Q\t\tQuote non-word characters by adding a backslash until \\E\n",
    "\\E\t\tEnd \\L, \\U, or \\Q\n",
    "```"
   ]
  },
  {
   "cell_type": "markdown",
   "metadata": {},
   "source": [
    "### String operators\n",
    "\n",
    "#### Concatenation\n",
    "\n",
    "Strings can be concatenated using the string operator `.`\n",
    "\n",
    "```\n",
    "\"ATCG\" . \"CCCG\" becomes \"ATCGCCCG\"\n",
    "\"ATCG\" . ' ' . \"CCCG\" becomes \"ATCG CCCG\"\n",
    "\"ATCG\" . \"\\n\" becomes \"ATCG\\n\"\n",
    "```"
   ]
  },
  {
   "cell_type": "markdown",
   "metadata": {},
   "source": [
    "#### Repetition\n",
    "\n",
    "Strings are repeated using the `x` operator; the number on the left specifies how often the string should be repeated:\n",
    "\n",
    "```\n",
    "\"ATCG\" x 3\t\tis the same as \t\"ATCGATCGATCG\"\n",
    "\"ATCG\" x (4+1)\tis the same as \t\"ATCGATCGATCGATCGATCG\"\n",
    "5 x 4\t\t\tis the same as \t\"5555\"\n",
    "4 x 5 \t\t\tis the same as \t\"44444\"\n",
    "```"
   ]
  },
  {
   "cell_type": "markdown",
   "metadata": {},
   "source": [
    "## Numbers vs. Strings\n",
    "\n",
    "Perl automatically converts between numbers and strings, depending on the context (e.g. operator):\n",
    "\n",
    "```\n",
    "5 x 4\t\t\tis the same as\t\"5555\"\n",
    "4 * 5 \t\t\tis the same as \t20\n",
    "\"Z\" . 4 * 5  \tis the same as  \"Z20\"\n",
    "```"
   ]
  },
  {
   "cell_type": "markdown",
   "metadata": {},
   "source": [
    "All string and number operators work just the same on variables:"
   ]
  },
  {
   "cell_type": "code",
   "execution_count": 14,
   "metadata": {
    "collapsed": false
   },
   "outputs": [
    {
     "name": "stdout",
     "output_type": "stream",
     "text": [
      "AT content is: 46\n",
      "Sequence is: ATCGATGGGGGGTTTT\n"
     ]
    }
   ],
   "source": [
    "%%perl\n",
    "\n",
    "#!/usr/bin/perl\n",
    "use strict;\n",
    "use warnings;\n",
    "use diagnostics;\n",
    "\n",
    "my $sequence = \"ATCGATGG\";\n",
    "my $Seq_ID = \"contig_1\";\n",
    "my $GC = 54;\n",
    "\n",
    "my $AT = 100 - $GC;\n",
    "print \"AT content is: $AT\\n\";\n",
    "\n",
    "\n",
    "$sequence = $sequence . \"GGGGTTTT\";\n",
    "print \"Sequence is: $sequence\\n\";"
   ]
  },
  {
   "cell_type": "markdown",
   "metadata": {},
   "source": [
    "## Compound assignment operators\n",
    "\n",
    "These allow are more concise coding style:"
   ]
  },
  {
   "cell_type": "markdown",
   "metadata": {},
   "source": [
    "```\n",
    "$sequence .= “GGGGTTTT”;\n",
    "\n",
    "is the same as:\n",
    "\n",
    "$sequence = $sequence . \"GGGGTTTT\";\n",
    "```"
   ]
  },
  {
   "cell_type": "markdown",
   "metadata": {},
   "source": [
    "The same works for number operators:"
   ]
  },
  {
   "cell_type": "markdown",
   "metadata": {},
   "source": [
    "```\n",
    "$number = $number + 1;\tis the same as \t$number += 1;\n",
    "\n",
    "$number = $number * 2; \tis the same as \t$number *= 2;\n",
    "```"
   ]
  },
  {
   "cell_type": "markdown",
   "metadata": {},
   "source": [
    "## Printing variables\n",
    "\n",
    "You can tell Perl explicitly where a variable name begins and ends using curly braces `{}`. This can be useful, e.g. in print statements:"
   ]
  },
  {
   "cell_type": "markdown",
   "metadata": {},
   "source": [
    "```\n",
    "print “${sequence}GGGGCTC\\n”;\n",
    "will print: ATCGATGGGGGGTTTT\n",
    "\n",
    "print “The GC content is ${GC}%\\n”;\n",
    "will print: The GC content is 64%\n",
    "```"
   ]
  },
  {
   "cell_type": "markdown",
   "metadata": {},
   "source": [
    "## Operator precedence and associativity\n",
    "\n",
    "Perl follows the common mathematical order for numerical operator precedence:\n",
    "\n",
    "`5 + 4 * 3` = 17\n",
    "`(5 + 4) * 3` = 60\n",
    "\n",
    "\n",
    "Operators that have the same precedence level are resolved by associativity:\n",
    "    \n",
    "`*` and `/` have __left associativity __\n",
    "\n",
    "``**`` (= exponentiation) has __right precedence__\n",
    "\n",
    "\n",
    "For a comprehensive list of operator precedence look here:\n",
    "http://perldoc.perl.org/perlop.html#Operator-Precedence-and-Associativity "
   ]
  },
  {
   "cell_type": "markdown",
   "metadata": {},
   "source": [
    "## Comparison operators\n",
    "\n",
    "These are used to compare the values of numbers or strings (a separate set exists for each, to avoid confusion between number and string context). The output of these comparisons are Boolean true or false values.\n",
    "\n",
    "|Comparison|Numeric|String|\n",
    "|----------|:-----:|:----:|\n",
    "|Equal|==|eq|\n",
    "|Not equal|!=|ne|\n",
    "|Less than| < | lt |\n",
    "|Greater than|\t>|gt |\n",
    "|Less than or equal to|\t<=|\tle |\n",
    "|Greater than or equal to|>=|ge |\n",
    "\n",
    "\n"
   ]
  }
 ],
 "metadata": {
  "anaconda-cloud": {},
  "kernelspec": {
   "display_name": "Python [conda root]",
   "language": "python",
   "name": "conda-root-py"
  },
  "language_info": {
   "codemirror_mode": {
    "name": "ipython",
    "version": 3
   },
   "file_extension": ".py",
   "mimetype": "text/x-python",
   "name": "python",
   "nbconvert_exporter": "python",
   "pygments_lexer": "ipython3",
   "version": "3.5.2"
  }
 },
 "nbformat": 4,
 "nbformat_minor": 1
}
