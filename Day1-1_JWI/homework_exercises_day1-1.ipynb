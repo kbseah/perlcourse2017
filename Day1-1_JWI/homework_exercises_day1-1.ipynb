{
 "cells": [
  {
   "cell_type": "markdown",
   "metadata": {},
   "source": [
    "# Homework exercises Day 1: Introduction to Perl, scalars, simple RegEx\n",
    "\n",
    "## Perl pragmas\n",
    "\n",
    "### 1) Using Perl pragmas and interpreting their output\n",
    "\n",
    "Today you learned that you can turn on warnings with the __ use warnings __ pragma. Write the following programs and run them. What warnings do you get for each one?"
   ]
  },
  {
   "cell_type": "code",
   "execution_count": 4,
   "metadata": {
    "collapsed": false
   },
   "outputs": [],
   "source": [
    "%%perl\n",
    "\n",
    "#!/usr/bin/perl\n",
    "print;"
   ]
  },
  {
   "cell_type": "code",
   "execution_count": 5,
   "metadata": {
    "collapsed": false
   },
   "outputs": [],
   "source": [
    "%%perl\n",
    "\n",
    "#!/usr/bin/perl\n",
    "3 + 4;"
   ]
  },
  {
   "cell_type": "code",
   "execution_count": 6,
   "metadata": {
    "collapsed": false,
    "scrolled": true
   },
   "outputs": [
    {
     "name": "stdout",
     "output_type": "stream",
     "text": [
      "1"
     ]
    }
   ],
   "source": [
    "%%perl\n",
    "\n",
    "#!/usr/bin/perl\n",
    "print $n + 1;"
   ]
  },
  {
   "cell_type": "markdown",
   "metadata": {},
   "source": [
    "Add the __ use warnings __ pragma to each script. What warnings do you get for each program? What do they mean?\n",
    "\n",
    "Add the __ use diagnostics __ pragma to each script. What warnings do you get now? How are they different?"
   ]
  },
  {
   "cell_type": "markdown",
   "metadata": {
    "collapsed": true
   },
   "source": [
    "## Operators\n",
    "\n",
    "### 2) Operator precedence and associativity\n",
    "\n",
    "Perl decides the order of operations based on operator precedence and the order of operations with the same precedence on associativity. Look at the following operations: In what order are they executed? Does it matter in which order they are executed?"
   ]
  },
  {
   "cell_type": "markdown",
   "metadata": {},
   "source": [
    "```perl\n",
    "3 ** 5 ** 4\n",
    "3 / 5 * 4\n",
    "3 + 5 * 4 ** 2 - 6\n",
    "```"
   ]
  },
  {
   "cell_type": "markdown",
   "metadata": {
    "collapsed": true
   },
   "source": [
    "## Regular expressions\n",
    "\n",
    "### 3) Identify enzyme classes in gene annotations\n",
    "Write a program that reads in the example GenBank file, matches either the string \"transferase\" or \"phosphorylase\" (tip: use \\b), and reports back the part of the string before the match, after the match, and which of the enzyme classes were matched.\n",
    "\n",
    "BONUS: You will see that the output, especially on the left side from the matched string looks ugly, e.g. you will see a lot of '         /product=\"' lines, and the right side is often empty.\n",
    "Clean up the output of your script by modifying the matched strings using the substitution operator 's/RegEX/REPLACEMENT/'\n",
    "\n",
    "The final output of the script should more or less look like this:"
   ]
  },
  {
   "cell_type": "markdown",
   "metadata": {},
   "source": [
    "```\n",
    "Found a match to transferase\n",
    "Context left: ATP phosphoribosyl\n",
    "Context right: regulatory\n",
    "\n",
    "Found a match to transferase\n",
    "Context left: Rhodanese-related sulfur\n",
    "Context right: nothing\n",
    "\n",
    "Found a match to phosphorylase\n",
    "Context left: Thiamin-phosphate pyro\n",
    "Context right:-like protein\n",
    "```"
   ]
  },
  {
   "cell_type": "markdown",
   "metadata": {},
   "source": [
    "\n",
    "### 4) Find ABC transporter motifs in protein sequences \n",
    "PROSITE (http://prosite.expasy.org/prosite.html) is a public database for protein patterns and protein motifs. Protein patterns can be easily translated into Perl regular expressions, and used to find protein patterns in amino acid sequences.\n",
    "\n",
    "In this exercise, write a Perl program that reads the example genbank file, counts the number of ABC transporter protein patterns found in the protein sequences contained in the GenBank file, and reports back the number of matches found.\n",
    "\n",
    "The PROSITE ABC transporter pattern is: \n",
    "\n",
    "__ [LIVMFYC]-[SA]-[SAPGLVFYKQH]-G-[DENQMW]-[KRQASPCLIMFW]-[KRNQSTAVM]-[KRACLVM]-[LIVMFYPAN]-{PHY}-[LIVMFW]-[SAGCLIVP]-{FYWHP}-{KRHP}-[LIVMFYWSTA]. __\n",
    "\n",
    "As you can see, PROSITE notation already looks quite similar to Perl RegEx. Here are the basic rules for reading PROSITE patterns:\n",
    "\n",
    "* The standard IUPAC codes are used to indicate the amino acids\n",
    "* The symbol 'x' indicates a position where any amino acid is allowed\n",
    "* Ambiguities are indicated by brackets '[]', e.g. [SA] means: at this position can be either an S or an A \n",
    "* Curly braces '{}' list any amino acids that are not allowed at that position, e.g. {PHY} means: at this position must be one amino acid that is NOT P, H, or Y\n",
    "* Each element in a pattern is separated from its neighbor by a '-'\n",
    "* Repetition of an element is indicated by a number in parentheses '()', e.g. x(2) is the same as x-x and x(2,3) is the same as x-x or x-x-x\n",
    "* A period ends the pattern.\n",
    "\n",
    "How many times can you find the ABC transporter PROSITE pattern in the example GenBank file? Remove the last 7 amino acid positions from the pattern. How many ABC transporter patterns do you find now? What is your interpretation of the result?\n",
    "\n",
    "Go to http://prosite.expasy.org/prosite.html and find a pattern of your interest, convert it into a Perl RegEx and see if you can find it in the example GenBank file, or in your own protein data."
   ]
  }
 ],
 "metadata": {
  "anaconda-cloud": {},
  "kernelspec": {
   "display_name": "Python [conda root]",
   "language": "python",
   "name": "conda-root-py"
  },
  "language_info": {
   "codemirror_mode": {
    "name": "ipython",
    "version": 2
   },
   "file_extension": ".py",
   "mimetype": "text/x-python",
   "name": "python",
   "nbconvert_exporter": "python",
   "pygments_lexer": "ipython2",
   "version": "2.7.12"
  }
 },
 "nbformat": 4,
 "nbformat_minor": 1
}
