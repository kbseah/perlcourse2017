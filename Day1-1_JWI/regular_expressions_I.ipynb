{
 "cells": [
  {
   "cell_type": "markdown",
   "metadata": {},
   "source": [
    "# Regular expressions\n",
    "\n",
    "Regular expressions (RegExes) are patterns used to match strings.\n",
    "\n",
    "This is extremely useful anywhere; in bioinformatics, we can use RegExes for example to:\n",
    "\n",
    "* Match each line that begins with an A and end with a T\n",
    "* Check if there is DNA sequence with non-standard characters\n",
    "* Check if I’m looking at a DNA or a protein sequence\n",
    "* Find any sequence headers that contain the string “Bacillus”\n",
    "* Find all lines that have the string “recA” in them\n",
    "\n",
    "\n",
    "__ Matches in Perl are absolute:__ a pattern either matches or it doesn't; there are no partial matches\n",
    "\n",
    "Always the left-most, longest substring that satisfies the pattern is matched.\n",
    "\n",
    "\n",
    "__The easiest RegEx is one that literally matches a string, e.g.:__"
   ]
  },
  {
   "cell_type": "code",
   "execution_count": 1,
   "metadata": {
    "collapsed": false
   },
   "outputs": [
    {
     "name": "stdout",
     "output_type": "stream",
     "text": [
      "It matched!\n"
     ]
    }
   ],
   "source": [
    "%%perl\n",
    "\n",
    "#!/usr/bin/perl\n",
    "use strict;\n",
    "use warnings;\n",
    "use diagnostics;\n",
    "\n",
    "$_ = \"AGGATAGGATATTA\";\n",
    "\n",
    "if (/GGA/) {\n",
    "    print \"It matched!\\n\";\n",
    "}"
   ]
  },
  {
   "cell_type": "markdown",
   "metadata": {},
   "source": [
    "* The special variable `$_` holds the string that the matching operation is performed on\n",
    "\n",
    "* `//` the forward slashes serve as matching operator and contain the RegEx that is applied to `$_` (they can be replaced by `%%`, `&&` etc. if it helps)"
   ]
  },
  {
   "cell_type": "markdown",
   "metadata": {},
   "source": [
    "Whitespaces matter in RegExes:\n",
    "    \n",
    "/GGA/  ≠ /G GA/\n",
    "\n",
    "Capitalization also matters:\n",
    "\n",
    "/GGA/  ≠ /gga/"
   ]
  },
  {
   "cell_type": "markdown",
   "metadata": {},
   "source": [
    "The match operator // is similar to double quotes \"\", in that special backslash escape characters like newline \\n as well as variables are __interpolated __\n",
    "\n",
    "|special backslash escape character| matches|\n",
    "|----------------------------------|-------|\n",
    "|\\w| any single character classified as a \"word\" character (= alphanumeric or `\"_\"`)|\n",
    "|\\W| any non-word character|\n",
    "|\\s| and whitespace character (space, tab, newline)|\n",
    "|\\S| any non-whitespace character|\n",
    "|\\d| many digit character, equivalent to [0-9]|\n",
    "|\\D| any non-digit character|"
   ]
  },
  {
   "cell_type": "markdown",
   "metadata": {},
   "source": [
    "__ An empty match operator (`//`) will match any string__"
   ]
  },
  {
   "cell_type": "markdown",
   "metadata": {},
   "source": [
    "## A matching test program\n",
    "Write the following lines of code in your text editor and save as check_match.pl:"
   ]
  },
  {
   "cell_type": "code",
   "execution_count": 4,
   "metadata": {
    "collapsed": true
   },
   "outputs": [],
   "source": [
    "%%perl\n",
    "\n",
    "#!/usr/bin/perl\n",
    "use strict;\n",
    "use warnings;\n",
    "use diagnostics;\n",
    "\n",
    "while (<STDIN>) {\n",
    "  chomp;\n",
    "  if (/YOUR_PATTERN_HERE/) {\n",
    "    print \"Matched!\\n\";\n",
    "  } else {\n",
    "    print \"No match :(\\n\";\n",
    "  }\n",
    "}"
   ]
  },
  {
   "cell_type": "markdown",
   "metadata": {},
   "source": [
    "## Metacharacters\n",
    "\n",
    "Metacharacters are used to build more sophisticated and useful RegExes. If you want to use any of these to literally match a string, escape them with backslash \\\n",
    "\n",
    "|Metacharacter|matches|\n",
    "|-------------|-------|\n",
    "|^|beginning of string|\n",
    "|$|end of string|\n",
    "|.|any character except newline|\n",
    "|*|match zero or more times|\n",
    "|+|match one or more times|\n",
    "|?|match zero or one times (= shortest match)|\n",
    "|<code>&#124;</code> |alternative|\n",
    "|()|grouping; storing|\n",
    "|[]|set of characters|\n",
    "|{}|repetition modifier|\n",
    "|\\|quote or special|"
   ]
  },
  {
   "cell_type": "markdown",
   "metadata": {},
   "source": [
    "### Example use of metacharacters\n",
    "\n"
   ]
  },
  {
   "cell_type": "markdown",
   "metadata": {},
   "source": [
    "```\n",
    "/^Hello/\tmatches \"Hello, World!\" but not \"World, I say Hello“\n",
    "\n",
    "/Hello$/\tmatches \"World, I say Hello\" but not \"Hello, World!\"\n",
    "\n",
    "/H.llo/\t\tmatches \"Hello\", \"Hallo\", \"H3llo\", and \"H\\sllo\"\n",
    "\n",
    "/Hel+o/\t\tmatches \"Hello\" and \"Helo\"\n",
    "\n",
    "/Hel?o/\t\tmatches \"Hello\", \"Helo\", Heo\" \n",
    "\n",
    "/He|allo/\tmatches \"Hello\" and \"Hallo\"\n",
    "```"
   ]
  },
  {
   "cell_type": "markdown",
   "metadata": {},
   "source": [
    "## Repetition operators\n",
    "\n",
    "These are used in RegExes when the goa is to match the same character, or a set of characters a certain number of times:\n",
    "\n",
    "|Repetition Operator|matches|\n",
    "|-------------------|-------|\n",
    "|a{m}|exactly m times|\n",
    "|a{m,}| at least m times|\n",
    "|a{m,n}|at least m times, up to n times|"
   ]
  },
  {
   "cell_type": "markdown",
   "metadata": {},
   "source": [
    "## Grouping\n",
    "\n",
    "Grouping with parentheses () helps to define what exactly should be matched:\n",
    "\n",
    "`/Hello+/` matches also `“Hellooooooo”`\n",
    "\n",
    "`/(Hello)+/` matches  `“HelloHelloHello”` \n",
    "\n",
    "The capture group match will automatically be saved by Perl in a special variable called `$1`.\n",
    "If more than one capture groups are used, each one is saved in `$1, $2, $3`, etc. according to position in the RegEx pattern"
   ]
  },
  {
   "cell_type": "markdown",
   "metadata": {},
   "source": [
    "## Back referencing\n",
    "Capture groups can be used to match the same sub-pattern multiple times, by back referencing using \\1, \\2, \\3 etc.:\n",
    "\n",
    "`/(.)\\1/`\n",
    "This matches \"Hello\", \"deep sea\" (= any character twice)\n",
    "\n",
    "\n",
    "The back reference does not have to immediately follow:\n",
    "\n",
    "`/(ll)ow\\s.{1,2}\\1/`\n",
    "This matches \"Yellow Mellow\" and \"fellow swallow\"\n"
   ]
  },
  {
   "cell_type": "markdown",
   "metadata": {},
   "source": [
    "## Character classes\n",
    "\n",
    "Character classes are used in RegEx to match groups of characters, e.g. groups of a certain kind (e.g. digits only etc.):\n",
    "\n",
    "|Character class|matches|\n",
    "|---------------|-------|\n",
    "|[characters]|any of the characters given in brackets|\n",
    "|[\\-]|hyphen character `-`|\n",
    "|[\\n]|newline character \\n|\n",
    "|[^something]|anything except something|\n",
    "|[a-zA-Z]|any uppper or lowercase letters|\n",
    "|[0-9]|any digits from 0 to 9|"
   ]
  },
  {
   "cell_type": "markdown",
   "metadata": {},
   "source": [
    "## Match modifiers\n",
    "\n",
    "Modifiers can be used to control the matching behaviour:\n",
    "\n",
    "Case insensitive matching: /i\n",
    "\n",
    "“.” now also matches newline character: /s\n",
    "\n",
    "Allow whitespaces in the pattern: /x\n",
    "\n",
    "Match modifiers can be combined, e.g. /isx\n",
    "\n",
    "Match at beginning of line: /A (same as ^)\n",
    "\n",
    "Match at end of line: /Z (same as $)\n"
   ]
  },
  {
   "cell_type": "markdown",
   "metadata": {},
   "source": [
    "## Binding operator\n",
    "So far, we matched against the string contained in Perl’s special variable $_\n",
    "\n",
    "However, we can also match pattern on the right to the string on the left:\n",
    "\n",
    "\n",
    "string =~ /pattern/\n",
    "\n",
    "\n",
    "For example:"
   ]
  },
  {
   "cell_type": "markdown",
   "metadata": {},
   "source": [
    "```perl\n",
    "if ($string =~ /[ACTG]+/){\n",
    "\tprint \"String is a nucleotide sequence\\n\";\n",
    "}\n",
    "```"
   ]
  },
  {
   "cell_type": "markdown",
   "metadata": {},
   "source": [
    "## Automatic match variables\n",
    "\n",
    "$_ holds default string for matching\n",
    "\n",
    "`$1, $2, $3`, etc. hold strings that matched the capture group\n",
    "\n",
    "$& holds that part of the string that actually matched the pattern\n",
    "\n",
    "$` holds the part of the string before the matched portion (back tick)\n",
    "\n",
    "$' holds the part of the string after the matched portion (single quote)"
   ]
  },
  {
   "cell_type": "markdown",
   "metadata": {},
   "source": [
    "## Substring manipulation\n",
    "\n",
    "Perl also allows to change matched portions of a string: \n",
    "\n",
    "The s/// (substitution) operator will match a string and replace the matched portion:\n",
    "\n",
    "s/RegEx/REPLACEMENT/\n",
    "\n",
    "e.g. s/CDS/coding sequence/ will replace \"CDS\" with \"coding sequence\"\n",
    "\n",
    "__ s/// will replace the matched portion in the variable that holds the string! __\n",
    "\n",
    "e.g.:"
   ]
  },
  {
   "cell_type": "code",
   "execution_count": 12,
   "metadata": {
    "collapsed": false
   },
   "outputs": [
    {
     "name": "stdout",
     "output_type": "stream",
     "text": [
      "cds CDS CDS\n"
     ]
    }
   ],
   "source": [
    "%%perl\n",
    "\n",
    "#!/usr/bin/perl\n",
    "use strict;\n",
    "use warnings;\n",
    "use diagnostics;\n",
    "\n",
    "$_ = \"CDS CDS CDS\";\n",
    "s/CDS/cds/;\n",
    "print \"$_\\n\";\n"
   ]
  },
  {
   "cell_type": "markdown",
   "metadata": {},
   "source": [
    "In order to replace all valid matches within a string use the global replacement operator /g:"
   ]
  },
  {
   "cell_type": "code",
   "execution_count": 11,
   "metadata": {
    "collapsed": false
   },
   "outputs": [
    {
     "name": "stdout",
     "output_type": "stream",
     "text": [
      "cds cds cds\n"
     ]
    }
   ],
   "source": [
    "%%perl\n",
    "\n",
    "#!/usr/bin/perl\n",
    "use strict;\n",
    "use warnings;\n",
    "use diagnostics;\n",
    "\n",
    "$_ = \"CDS CDS CDS\";\n",
    "s/CDS/cds/g;\n",
    "print \"$_\\n\";"
   ]
  },
  {
   "cell_type": "markdown",
   "metadata": {},
   "source": [
    "The binding operator can also be used with the substitution operator, e.g.:"
   ]
  },
  {
   "cell_type": "code",
   "execution_count": 15,
   "metadata": {
    "collapsed": false
   },
   "outputs": [
    {
     "name": "stdout",
     "output_type": "stream",
     "text": [
      "DNA: ATTTGACTATA\n",
      "RNA: AUUUGACUAUA\n"
     ]
    }
   ],
   "source": [
    "%%perl\n",
    "\n",
    "#!/usr/bin/perl\n",
    "use strict;\n",
    "use warnings;\n",
    "use diagnostics;\n",
    "\n",
    "my $sequence = \"ATTTGACTATA\";\n",
    "print \"DNA: $sequence\\n\";\n",
    "$sequence =~ s/T/U/g;\n",
    "print \"RNA: $sequence\\n\";"
   ]
  }
 ],
 "metadata": {
  "anaconda-cloud": {},
  "kernelspec": {
   "display_name": "Python [conda root]",
   "language": "python",
   "name": "conda-root-py"
  },
  "language_info": {
   "codemirror_mode": {
    "name": "ipython",
    "version": 3
   },
   "file_extension": ".py",
   "mimetype": "text/x-python",
   "name": "python",
   "nbconvert_exporter": "python",
   "pygments_lexer": "ipython3",
   "version": "3.5.2"
  }
 },
 "nbformat": 4,
 "nbformat_minor": 1
}
