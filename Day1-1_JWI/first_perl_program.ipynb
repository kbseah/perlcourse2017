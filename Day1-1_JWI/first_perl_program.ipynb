{
 "cells": [
  {
   "cell_type": "markdown",
   "metadata": {
    "collapsed": true
   },
   "source": [
    "# Let's write our very first Perl program!\n",
    "\n",
    "Perl programs are just simple text files, so open up your favourite text editor (e.g. Komodo Edit, Sublime, Kate, Gedit), and type the following: "
   ]
  },
  {
   "cell_type": "code",
   "execution_count": null,
   "metadata": {
    "collapsed": true
   },
   "outputs": [],
   "source": [
    "#!/usr/bin/perl"
   ]
  },
  {
   "cell_type": "markdown",
   "metadata": {},
   "source": [
    "This is always the first line in any Perl script. It tells the shell where to find perl (= the Perl interpreter). In most Linux systems, perl will be located in the /usr/bin directory.\n",
    "If you have a typo in this line, or if perl is located elsewhere, Perl will through the following error message: \n",
    "> bad interpreter: No such file or directory\n",
    "\n",
    "__ Never use a word processor (e.g. Microsoft Word, Libreoffice), since these include hidden formatting characters that will mess with your program! __\n",
    "\n",
    "Now, save your Perl program as helloworld.pl (the file extension is optional, .pl indicates that it's a perl script file) and execute the program:"
   ]
  },
  {
   "cell_type": "code",
   "execution_count": 2,
   "metadata": {
    "collapsed": false
   },
   "outputs": [],
   "source": [
    "%%bash \n",
    "./helloworld.pl"
   ]
  },
  {
   "cell_type": "markdown",
   "metadata": {},
   "source": [
    "As you can see, nothing happens, because we didn't tell Perl to do anything yet. So, let's add some instructions:"
   ]
  },
  {
   "cell_type": "code",
   "execution_count": 3,
   "metadata": {
    "collapsed": false
   },
   "outputs": [
    {
     "name": "stdout",
     "output_type": "stream",
     "text": [
      "Hello, World!\n"
     ]
    }
   ],
   "source": [
    "%%perl\n",
    "\n",
    "#!/usr/bin/perl\n",
    "\n",
    "print \"Hello, World!\\n\";"
   ]
  },
  {
   "cell_type": "markdown",
   "metadata": {},
   "source": [
    "Alternatively, you may get:\n",
    "    \n",
    "> bash: ./helloworld.pl: Permission denied\n",
    "\n",
    "It means you don't have permission to execute the file. Change this with the chmod command:"
   ]
  },
  {
   "cell_type": "code",
   "execution_count": 4,
   "metadata": {
    "collapsed": true
   },
   "outputs": [],
   "source": [
    "%%bash\n",
    "\n",
    "chmod u+x helloworld.pl"
   ]
  },
  {
   "cell_type": "markdown",
   "metadata": {},
   "source": [
    "__ print __ is a command that let's you print text to the screen\n",
    "\n",
    "__ \" \" __ double quotes enclose the text that should be printed\n",
    "\n",
    "\n",
    "__ \\n __ is the special \"newline\" character, it tells bash that a new line should start after this character\n",
    "\n",
    "__ ; __ marks the end of a statement, it is mandatory!\n",
    "\n",
    "\n",
    "Add the following lines:"
   ]
  },
  {
   "cell_type": "code",
   "execution_count": 9,
   "metadata": {
    "collapsed": false
   },
   "outputs": [
    {
     "name": "stdout",
     "output_type": "stream",
     "text": [
      "Hello, World!\n"
     ]
    }
   ],
   "source": [
    "%%perl\n",
    "\n",
    "#!/usr/bin/perl\n",
    "use strict;\n",
    "use warnings;\n",
    "use diagnostics;\n",
    "\n",
    "print \"Hello, World!\\n\";\n"
   ]
  },
  {
   "cell_type": "markdown",
   "metadata": {},
   "source": [
    "__ use strict __ is a Perl pragama that enforces a cleaner, stricter coding style. this will help you avoid unstable code\n",
    "\n",
    "__ use warnings __ will show optional warnings that may help you to debug your code\n",
    "\n",
    "__ use diagnostics __ will make Perl error messages and warnings more verbose and informative"
   ]
  },
  {
   "cell_type": "markdown",
   "metadata": {},
   "source": [
    "### Commenting\n",
    "\n",
    "It's good practice to obey some standard coding styles that make the code easier to read, comprehend and use. \n",
    "\n",
    "__Anything behind a # will be treated as comment (i.e. ignored by the perl interpreter)__\n",
    "\n",
    "Use this to add information on who wrote the code, when it was written, and for what purpose. Comment on your code to make it easier to follow what each line of code is doing. Rather comment too much than too little, you might be surprised how easy and fast you'll forget how your code is working! "
   ]
  },
  {
   "cell_type": "code",
   "execution_count": 10,
   "metadata": {
    "collapsed": false
   },
   "outputs": [
    {
     "name": "stdout",
     "output_type": "stream",
     "text": [
      "Hello, World!\n"
     ]
    }
   ],
   "source": [
    "%%perl\n",
    "\n",
    "#!/usr/bin/perl\n",
    "# written by Juliane Wippler 2016-02-08 (Perl course)\n",
    "use strict;\n",
    "use warnings;\n",
    "use diagnostics;\n",
    "\n",
    "print \"Hello, World!\\n\"; # prints \"Hello, World!\" to screen"
   ]
  }
 ],
 "metadata": {
  "anaconda-cloud": {},
  "kernelspec": {
   "display_name": "Python [default]",
   "language": "python",
   "name": "python3"
  },
  "language_info": {
   "codemirror_mode": {
    "name": "ipython",
    "version": 3
   },
   "file_extension": ".py",
   "mimetype": "text/x-python",
   "name": "python",
   "nbconvert_exporter": "python",
   "pygments_lexer": "ipython3",
   "version": "3.5.2"
  }
 },
 "nbformat": 4,
 "nbformat_minor": 1
}
